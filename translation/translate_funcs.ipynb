{
 "cells": [
  {
   "cell_type": "code",
   "execution_count": 1,
   "id": "de8480e5-c3d0-40b2-884c-66c86a21dfde",
   "metadata": {
    "collapsed": true,
    "jupyter": {
     "outputs_hidden": true
    },
    "scrolled": true
   },
   "outputs": [
    {
     "name": "stdout",
     "output_type": "stream",
     "text": [
      "Collecting datasets\n",
      "  Downloading datasets-3.6.0-py3-none-any.whl.metadata (19 kB)\n",
      "Requirement already satisfied: filelock in /home/ec2-user/anaconda3/envs/pytorch_p310/lib/python3.10/site-packages (from datasets) (3.16.1)\n",
      "Requirement already satisfied: numpy>=1.17 in /home/ec2-user/anaconda3/envs/pytorch_p310/lib/python3.10/site-packages (from datasets) (1.26.4)\n",
      "Requirement already satisfied: pyarrow>=15.0.0 in /home/ec2-user/anaconda3/envs/pytorch_p310/lib/python3.10/site-packages (from datasets) (20.0.0)\n",
      "Collecting dill<0.3.9,>=0.3.0 (from datasets)\n",
      "  Downloading dill-0.3.8-py3-none-any.whl.metadata (10 kB)\n",
      "Requirement already satisfied: pandas in /home/ec2-user/anaconda3/envs/pytorch_p310/lib/python3.10/site-packages (from datasets) (2.3.0)\n",
      "Requirement already satisfied: requests>=2.32.2 in /home/ec2-user/anaconda3/envs/pytorch_p310/lib/python3.10/site-packages (from datasets) (2.32.4)\n",
      "Requirement already satisfied: tqdm>=4.66.3 in /home/ec2-user/anaconda3/envs/pytorch_p310/lib/python3.10/site-packages (from datasets) (4.67.1)\n",
      "Collecting xxhash (from datasets)\n",
      "  Downloading xxhash-3.5.0-cp310-cp310-manylinux_2_17_x86_64.manylinux2014_x86_64.whl.metadata (12 kB)\n",
      "Collecting multiprocess<0.70.17 (from datasets)\n",
      "  Downloading multiprocess-0.70.16-py310-none-any.whl.metadata (7.2 kB)\n",
      "Collecting fsspec<=2025.3.0,>=2023.1.0 (from fsspec[http]<=2025.3.0,>=2023.1.0->datasets)\n",
      "  Downloading fsspec-2025.3.0-py3-none-any.whl.metadata (11 kB)\n",
      "Collecting huggingface-hub>=0.24.0 (from datasets)\n",
      "  Downloading huggingface_hub-0.33.2-py3-none-any.whl.metadata (14 kB)\n",
      "Requirement already satisfied: packaging in /home/ec2-user/anaconda3/envs/pytorch_p310/lib/python3.10/site-packages (from datasets) (24.2)\n",
      "Requirement already satisfied: pyyaml>=5.1 in /home/ec2-user/anaconda3/envs/pytorch_p310/lib/python3.10/site-packages (from datasets) (6.0.2)\n",
      "Collecting aiohttp!=4.0.0a0,!=4.0.0a1 (from fsspec[http]<=2025.3.0,>=2023.1.0->datasets)\n",
      "  Downloading aiohttp-3.12.13-cp310-cp310-manylinux_2_17_x86_64.manylinux2014_x86_64.whl.metadata (7.6 kB)\n",
      "Collecting aiohappyeyeballs>=2.5.0 (from aiohttp!=4.0.0a0,!=4.0.0a1->fsspec[http]<=2025.3.0,>=2023.1.0->datasets)\n",
      "  Downloading aiohappyeyeballs-2.6.1-py3-none-any.whl.metadata (5.9 kB)\n",
      "Collecting aiosignal>=1.1.2 (from aiohttp!=4.0.0a0,!=4.0.0a1->fsspec[http]<=2025.3.0,>=2023.1.0->datasets)\n",
      "  Downloading aiosignal-1.4.0-py3-none-any.whl.metadata (3.7 kB)\n",
      "Collecting async-timeout<6.0,>=4.0 (from aiohttp!=4.0.0a0,!=4.0.0a1->fsspec[http]<=2025.3.0,>=2023.1.0->datasets)\n",
      "  Downloading async_timeout-5.0.1-py3-none-any.whl.metadata (5.1 kB)\n",
      "Requirement already satisfied: attrs>=17.3.0 in /home/ec2-user/anaconda3/envs/pytorch_p310/lib/python3.10/site-packages (from aiohttp!=4.0.0a0,!=4.0.0a1->fsspec[http]<=2025.3.0,>=2023.1.0->datasets) (25.3.0)\n",
      "Collecting frozenlist>=1.1.1 (from aiohttp!=4.0.0a0,!=4.0.0a1->fsspec[http]<=2025.3.0,>=2023.1.0->datasets)\n",
      "  Downloading frozenlist-1.7.0-cp310-cp310-manylinux_2_5_x86_64.manylinux1_x86_64.manylinux_2_17_x86_64.manylinux2014_x86_64.whl.metadata (18 kB)\n",
      "Collecting multidict<7.0,>=4.5 (from aiohttp!=4.0.0a0,!=4.0.0a1->fsspec[http]<=2025.3.0,>=2023.1.0->datasets)\n",
      "  Downloading multidict-6.6.3-cp310-cp310-manylinux2014_x86_64.manylinux_2_17_x86_64.manylinux_2_28_x86_64.whl.metadata (5.3 kB)\n",
      "Collecting propcache>=0.2.0 (from aiohttp!=4.0.0a0,!=4.0.0a1->fsspec[http]<=2025.3.0,>=2023.1.0->datasets)\n",
      "  Downloading propcache-0.3.2-cp310-cp310-manylinux_2_17_x86_64.manylinux2014_x86_64.whl.metadata (12 kB)\n",
      "Collecting yarl<2.0,>=1.17.0 (from aiohttp!=4.0.0a0,!=4.0.0a1->fsspec[http]<=2025.3.0,>=2023.1.0->datasets)\n",
      "  Downloading yarl-1.20.1-cp310-cp310-manylinux_2_17_x86_64.manylinux2014_x86_64.whl.metadata (73 kB)\n",
      "Requirement already satisfied: typing-extensions>=4.1.0 in /home/ec2-user/anaconda3/envs/pytorch_p310/lib/python3.10/site-packages (from multidict<7.0,>=4.5->aiohttp!=4.0.0a0,!=4.0.0a1->fsspec[http]<=2025.3.0,>=2023.1.0->datasets) (4.14.0)\n",
      "Requirement already satisfied: idna>=2.0 in /home/ec2-user/anaconda3/envs/pytorch_p310/lib/python3.10/site-packages (from yarl<2.0,>=1.17.0->aiohttp!=4.0.0a0,!=4.0.0a1->fsspec[http]<=2025.3.0,>=2023.1.0->datasets) (3.10)\n",
      "Collecting hf-xet<2.0.0,>=1.1.2 (from huggingface-hub>=0.24.0->datasets)\n",
      "  Downloading hf_xet-1.1.5-cp37-abi3-manylinux_2_17_x86_64.manylinux2014_x86_64.whl.metadata (879 bytes)\n",
      "Requirement already satisfied: charset_normalizer<4,>=2 in /home/ec2-user/anaconda3/envs/pytorch_p310/lib/python3.10/site-packages (from requests>=2.32.2->datasets) (3.4.2)\n",
      "Requirement already satisfied: urllib3<3,>=1.21.1 in /home/ec2-user/anaconda3/envs/pytorch_p310/lib/python3.10/site-packages (from requests>=2.32.2->datasets) (1.26.19)\n",
      "Requirement already satisfied: certifi>=2017.4.17 in /home/ec2-user/anaconda3/envs/pytorch_p310/lib/python3.10/site-packages (from requests>=2.32.2->datasets) (2025.6.15)\n",
      "Requirement already satisfied: python-dateutil>=2.8.2 in /home/ec2-user/anaconda3/envs/pytorch_p310/lib/python3.10/site-packages (from pandas->datasets) (2.9.0)\n",
      "Requirement already satisfied: pytz>=2020.1 in /home/ec2-user/anaconda3/envs/pytorch_p310/lib/python3.10/site-packages (from pandas->datasets) (2025.2)\n",
      "Requirement already satisfied: tzdata>=2022.7 in /home/ec2-user/anaconda3/envs/pytorch_p310/lib/python3.10/site-packages (from pandas->datasets) (2025.2)\n",
      "Requirement already satisfied: six>=1.5 in /home/ec2-user/anaconda3/envs/pytorch_p310/lib/python3.10/site-packages (from python-dateutil>=2.8.2->pandas->datasets) (1.17.0)\n",
      "Downloading datasets-3.6.0-py3-none-any.whl (491 kB)\n",
      "Downloading dill-0.3.8-py3-none-any.whl (116 kB)\n",
      "Downloading fsspec-2025.3.0-py3-none-any.whl (193 kB)\n",
      "Downloading multiprocess-0.70.16-py310-none-any.whl (134 kB)\n",
      "Downloading aiohttp-3.12.13-cp310-cp310-manylinux_2_17_x86_64.manylinux2014_x86_64.whl (1.6 MB)\n",
      "\u001b[2K   \u001b[90m━━━━━━━━━━━━━━━━━━━━━━━━━━━━━━━━━━━━━━━━\u001b[0m \u001b[32m1.6/1.6 MB\u001b[0m \u001b[31m111.0 MB/s\u001b[0m eta \u001b[36m0:00:00\u001b[0m\n",
      "\u001b[?25hDownloading async_timeout-5.0.1-py3-none-any.whl (6.2 kB)\n",
      "Downloading multidict-6.6.3-cp310-cp310-manylinux2014_x86_64.manylinux_2_17_x86_64.manylinux_2_28_x86_64.whl (241 kB)\n",
      "Downloading yarl-1.20.1-cp310-cp310-manylinux_2_17_x86_64.manylinux2014_x86_64.whl (326 kB)\n",
      "Downloading aiohappyeyeballs-2.6.1-py3-none-any.whl (15 kB)\n",
      "Downloading aiosignal-1.4.0-py3-none-any.whl (7.5 kB)\n",
      "Downloading frozenlist-1.7.0-cp310-cp310-manylinux_2_5_x86_64.manylinux1_x86_64.manylinux_2_17_x86_64.manylinux2014_x86_64.whl (222 kB)\n",
      "Downloading huggingface_hub-0.33.2-py3-none-any.whl (515 kB)\n",
      "Downloading hf_xet-1.1.5-cp37-abi3-manylinux_2_17_x86_64.manylinux2014_x86_64.whl (3.1 MB)\n",
      "\u001b[2K   \u001b[90m━━━━━━━━━━━━━━━━━━━━━━━━━━━━━━━━━━━━━━━━\u001b[0m \u001b[32m3.1/3.1 MB\u001b[0m \u001b[31m136.0 MB/s\u001b[0m eta \u001b[36m0:00:00\u001b[0m\n",
      "\u001b[?25hDownloading propcache-0.3.2-cp310-cp310-manylinux_2_17_x86_64.manylinux2014_x86_64.whl (198 kB)\n",
      "Downloading xxhash-3.5.0-cp310-cp310-manylinux_2_17_x86_64.manylinux2014_x86_64.whl (194 kB)\n",
      "Installing collected packages: xxhash, propcache, multidict, hf-xet, fsspec, frozenlist, dill, async-timeout, aiohappyeyeballs, yarl, multiprocess, huggingface-hub, aiosignal, aiohttp, datasets\n",
      "\u001b[2K  Attempting uninstall: fsspec\n",
      "\u001b[2K    Found existing installation: fsspec 2025.5.1\n",
      "\u001b[2K    Uninstalling fsspec-2025.5.1:[90m━━━━━━━━━━━━━━━━━━━━━━━━━━━━━\u001b[0m \u001b[32m 4/15\u001b[0m [fsspec]\n",
      "\u001b[2K      Successfully uninstalled fsspec-2025.5.1━━━━━━━━━━━━━━━━\u001b[0m \u001b[32m 4/15\u001b[0m [fsspec]\n",
      "\u001b[2K  Attempting uninstall: dill\u001b[0m\u001b[90m━━━━━━━━━━━━━━━━━━━━━━━━━━━━━\u001b[0m \u001b[32m 4/15\u001b[0m [fsspec]\n",
      "\u001b[2K    Found existing installation: dill 0.4.0━━━━━━━━━━━━━━━━━━━━━━━\u001b[0m \u001b[32m 6/15\u001b[0m [dill]\n",
      "\u001b[2K    Uninstalling dill-0.4.0:m╺\u001b[0m\u001b[90m━━━━━━━━━━━━━━━━━━━━━━━\u001b[0m \u001b[32m 6/15\u001b[0m [dill]\n",
      "\u001b[2K      Successfully uninstalled dill-0.4.00m━━━━━━━━━━━━━━━━━━━━━━━\u001b[0m \u001b[32m 6/15\u001b[0m [dill]\n",
      "\u001b[2K  Attempting uninstall: multiprocess0m\u001b[90m━━━━━━━━━━━━━━━━━━━━━━━\u001b[0m \u001b[32m 6/15\u001b[0m [dill]\n",
      "\u001b[2K    Found existing installation: multiprocess 0.70.18━━━━━━━━━\u001b[0m \u001b[32m 6/15\u001b[0m [dill]\n",
      "\u001b[2K    Uninstalling multiprocess-0.70.18:\u001b[91m╸\u001b[0m\u001b[90m━━━━━━━━━━━━━\u001b[0m \u001b[32m10/15\u001b[0m [multiprocess]\n",
      "\u001b[2K      Successfully uninstalled multiprocess-0.70.18━━━━━━━━━━━\u001b[0m \u001b[32m10/15\u001b[0m [multiprocess]\n",
      "\u001b[2K   \u001b[90m━━━━━━━━━━━━━━━━━━━━━━━━━━━━━━━━━━━━━━━━\u001b[0m \u001b[32m15/15\u001b[0m [datasets]/15\u001b[0m [datasets]ce-hub]\n",
      "\u001b[1A\u001b[2K\u001b[31mERROR: pip's dependency resolver does not currently take into account all the packages that are installed. This behaviour is the source of the following dependency conflicts.\n",
      "pathos 0.3.4 requires dill>=0.4.0, but you have dill 0.3.8 which is incompatible.\n",
      "pathos 0.3.4 requires multiprocess>=0.70.18, but you have multiprocess 0.70.16 which is incompatible.\u001b[0m\u001b[31m\n",
      "\u001b[0mSuccessfully installed aiohappyeyeballs-2.6.1 aiohttp-3.12.13 aiosignal-1.4.0 async-timeout-5.0.1 datasets-3.6.0 dill-0.3.8 frozenlist-1.7.0 fsspec-2025.3.0 hf-xet-1.1.5 huggingface-hub-0.33.2 multidict-6.6.3 multiprocess-0.70.16 propcache-0.3.2 xxhash-3.5.0 yarl-1.20.1\n",
      "Collecting openpyxl\n",
      "  Downloading openpyxl-3.1.5-py2.py3-none-any.whl.metadata (2.5 kB)\n",
      "Collecting et-xmlfile (from openpyxl)\n",
      "  Downloading et_xmlfile-2.0.0-py3-none-any.whl.metadata (2.7 kB)\n",
      "Downloading openpyxl-3.1.5-py2.py3-none-any.whl (250 kB)\n",
      "Downloading et_xmlfile-2.0.0-py3-none-any.whl (18 kB)\n",
      "Installing collected packages: et-xmlfile, openpyxl\n",
      "\u001b[2K   \u001b[90m━━━━━━━━━━━━━━━━━━━━━━━━━━━━━━━━━━━━━━━━\u001b[0m \u001b[32m2/2\u001b[0m [openpyxl]1/2\u001b[0m [openpyxl]\n",
      "\u001b[1A\u001b[2KSuccessfully installed et-xmlfile-2.0.0 openpyxl-3.1.5\n"
     ]
    }
   ],
   "source": [
    "!pip install datasets\n",
    "!pip install openpyxl\n",
    "!pip install -q -U google-genai\n",
    "# !pip install transformers\n",
    "# !pip install accelerate\n",
    "# !pip install peft\n",
    "# !pip install bitsandbytes"
   ]
  },
  {
   "cell_type": "markdown",
   "id": "d52ac5aa-eb0a-4ae5-b8de-a5d2a6fbc453",
   "metadata": {},
   "source": [
    "# Imports"
   ]
  },
  {
   "cell_type": "code",
   "execution_count": 45,
   "id": "7c5c1afb-bf91-456d-aecd-63dbe731d117",
   "metadata": {},
   "outputs": [
    {
     "name": "stdout",
     "output_type": "stream",
     "text": [
      "The autoreload extension is already loaded. To reload it, use:\n",
      "  %reload_ext autoreload\n"
     ]
    }
   ],
   "source": [
    "%load_ext autoreload\n",
    "%autoreload 2\n",
    "\n",
    "import pandas as pd\n",
    "import sys\n",
    "\n",
    "# Call models\n",
    "from src.call_models import bedrock_connect, call_claude_bedrock\n",
    "from src.call_models import google_connect, call_gemini, all_string_gemini_config, all_int_gemini_config\n",
    "from src.translate_func import claude_translation, gemini_translation, gemini_multi_translation, gemini_claude_best_translation\n",
    "\n",
    "# Datasets\n",
    "from src.benchmarks_code import arc_ai\n",
    "from prompts import arc_prompts\n",
    "\n",
    "# Access keys\n",
    "from my_access_keys import google_access_key, aws_access_key, aws_secret_key\n",
    "\n",
    "# .csv utils\n",
    "from src.save_utils import add_dataset_to_csv\n",
    "\n",
    "# Remove annoying warning\n",
    "from IPython.core.display_functions import display"
   ]
  },
  {
   "cell_type": "code",
   "execution_count": 5,
   "id": "ee4c23e3-3705-4090-b599-f06d7bef152e",
   "metadata": {},
   "outputs": [],
   "source": [
    "# Get the model's access keys\n",
    "bedrock_client = bedrock_connect(aws_access_key, aws_secret_key)\n",
    "google_client = google_connect(google_access_key)"
   ]
  },
  {
   "cell_type": "markdown",
   "id": "d558c746-5323-449a-9715-0787c26e8144",
   "metadata": {},
   "source": [
    "# Check Models Calls"
   ]
  },
  {
   "cell_type": "code",
   "execution_count": 52,
   "id": "a8b4e7db-bc1e-4341-bbe6-dffd1a525bb3",
   "metadata": {},
   "outputs": [
    {
     "name": "stdout",
     "output_type": "stream",
     "text": [
      "claude:\n",
      "*היווצרות יבשת העל פנגיאה*\n"
     ]
    }
   ],
   "source": [
    "print('claude:')\n",
    "print(call_claude_bedrock(\n",
    "    bedrock_client,\n",
    "    'Which one is more accurate in Hebrew? repeat the right sentence, without adding anything\\nהיווצרות יבשת העל פנגיאה OR היווצרות היבשת העל פנגיאה',\n",
    "    system_prompt='ALWAYS start and end your answers with \"*\"',\n",
    "))"
   ]
  },
  {
   "cell_type": "raw",
   "id": "f97cdb0b-acdd-4e41-a5b9-a0eab887763c",
   "metadata": {},
   "source": [
    "print('Gemini:')\n",
    "generate_content_config = all_string_gemini_config(['recipe', 'ingredients'], 'USE ONLY ALLCAPS')\n",
    "response = call_gemini(google_client, \"List a popular cookie recipe, and include the amounts of ingredients.\", generate_content_config)\n",
    "print(response.text)\n",
    "print('---')\n",
    "my_recipes = response.parsed\n",
    "print(my_recipes.keys())"
   ]
  },
  {
   "cell_type": "markdown",
   "id": "a7e9b7c3-0fe6-4d38-9f14-11dbc22c4407",
   "metadata": {},
   "source": [
    "# ARC_AI2"
   ]
  },
  {
   "cell_type": "markdown",
   "id": "45f8b0ca-de73-46c6-908d-35f288bb3c16",
   "metadata": {},
   "source": [
    "## Get Datset"
   ]
  },
  {
   "cell_type": "code",
   "execution_count": 6,
   "id": "dc1f8efc-d4cb-4b6e-b88c-7b3ef27d2f4a",
   "metadata": {},
   "outputs": [
    {
     "data": {
      "application/vnd.jupyter.widget-view+json": {
       "model_id": "a3daa607c95a44ca949d8b031b7dfd31",
       "version_major": 2,
       "version_minor": 0
      },
      "text/plain": [
       "README.md: 0.00B [00:00, ?B/s]"
      ]
     },
     "metadata": {},
     "output_type": "display_data"
    },
    {
     "data": {
      "application/vnd.jupyter.widget-view+json": {
       "model_id": "fe45b40198cb4bd281c20ca9edda6522",
       "version_major": 2,
       "version_minor": 0
      },
      "text/plain": [
       "ARC-Challenge/train-00000-of-00001.parqu(…):   0%|          | 0.00/190k [00:00<?, ?B/s]"
      ]
     },
     "metadata": {},
     "output_type": "display_data"
    },
    {
     "data": {
      "application/vnd.jupyter.widget-view+json": {
       "model_id": "b9eb775a86a54cd5ae0dc82c4e598442",
       "version_major": 2,
       "version_minor": 0
      },
      "text/plain": [
       "ARC-Challenge/test-00000-of-00001.parque(…):   0%|          | 0.00/204k [00:00<?, ?B/s]"
      ]
     },
     "metadata": {},
     "output_type": "display_data"
    },
    {
     "data": {
      "application/vnd.jupyter.widget-view+json": {
       "model_id": "674784a0d2fb4fae87744d953c2b5a4e",
       "version_major": 2,
       "version_minor": 0
      },
      "text/plain": [
       "ARC-Challenge/validation-00000-of-00001.(…):   0%|          | 0.00/55.7k [00:00<?, ?B/s]"
      ]
     },
     "metadata": {},
     "output_type": "display_data"
    },
    {
     "data": {
      "application/vnd.jupyter.widget-view+json": {
       "model_id": "aba66d76cf5448789502144163186d9c",
       "version_major": 2,
       "version_minor": 0
      },
      "text/plain": [
       "Generating train split:   0%|          | 0/1119 [00:00<?, ? examples/s]"
      ]
     },
     "metadata": {},
     "output_type": "display_data"
    },
    {
     "data": {
      "application/vnd.jupyter.widget-view+json": {
       "model_id": "43ea3c90427047bd94ded0052e3bb50b",
       "version_major": 2,
       "version_minor": 0
      },
      "text/plain": [
       "Generating test split:   0%|          | 0/1172 [00:00<?, ? examples/s]"
      ]
     },
     "metadata": {},
     "output_type": "display_data"
    },
    {
     "data": {
      "application/vnd.jupyter.widget-view+json": {
       "model_id": "f516298157ed4352924654c2b0fe4b45",
       "version_major": 2,
       "version_minor": 0
      },
      "text/plain": [
       "Generating validation split:   0%|          | 0/299 [00:00<?, ? examples/s]"
      ]
     },
     "metadata": {},
     "output_type": "display_data"
    },
    {
     "name": "stdout",
     "output_type": "stream",
     "text": [
      "compare_csv/arc_ai2_chall_train_top_50.csv\n"
     ]
    },
    {
     "data": {
      "text/plain": [
       "{'arc_challenge_train': Dataset({\n",
       "     features: ['id', 'question', 'choices', 'answerKey'],\n",
       "     num_rows: 50\n",
       " })}"
      ]
     },
     "execution_count": 6,
     "metadata": {},
     "output_type": "execute_result"
    }
   ],
   "source": [
    "arc_dataset = arc_ai.get_arc_ai2_datasets()\n",
    "arc_dataset['arc_challenge_train'] = arc_dataset['arc_challenge_train'].skip(5).take(50)\n",
    "file_name = 'compare_csv/arc_ai2_chall_train_top_50.csv'\n",
    "\n",
    "print(file_name)\n",
    "arc_dataset"
   ]
  },
  {
   "cell_type": "raw",
   "id": "c78dcc16-1f3c-4a02-ab4e-d88bd3935130",
   "metadata": {},
   "source": [
    "df = add_dataset_to_csv(file_name, 'original', arc_dataset['arc_challenge_train'], arc_ai.arc_sample_to_dict)\n",
    "df.head(3)"
   ]
  },
  {
   "cell_type": "code",
   "execution_count": 7,
   "id": "43d6128c-2e3e-4181-a676-ffad0f9352ba",
   "metadata": {},
   "outputs": [
    {
     "data": {
      "text/html": [
       "<div>\n",
       "<style scoped>\n",
       "    .dataframe tbody tr th:only-of-type {\n",
       "        vertical-align: middle;\n",
       "    }\n",
       "\n",
       "    .dataframe tbody tr th {\n",
       "        vertical-align: top;\n",
       "    }\n",
       "\n",
       "    .dataframe thead th {\n",
       "        text-align: right;\n",
       "    }\n",
       "</style>\n",
       "<table border=\"1\" class=\"dataframe\">\n",
       "  <thead>\n",
       "    <tr style=\"text-align: right;\">\n",
       "      <th></th>\n",
       "      <th>original</th>\n",
       "      <th>claude_v1</th>\n",
       "      <th>claude_v2</th>\n",
       "      <th>claude_v3</th>\n",
       "      <th>claude_v4</th>\n",
       "      <th>claude_v5</th>\n",
       "      <th>claude_v6</th>\n",
       "      <th>gemini_v1</th>\n",
       "      <th>gemini_pro_v1</th>\n",
       "      <th>gemini_v2</th>\n",
       "      <th>gemini_pro_v2</th>\n",
       "      <th>gemini_v2_think</th>\n",
       "      <th>gemini_v3</th>\n",
       "      <th>gemini_v3_think</th>\n",
       "    </tr>\n",
       "  </thead>\n",
       "  <tbody>\n",
       "    <tr>\n",
       "      <th>0</th>\n",
       "      <td>&lt;question&gt;Which land form is the result of the...</td>\n",
       "      <td>&lt;question&gt;איזו צורת קרקע היא תוצאה של הכוח הבו...</td>\n",
       "      <td>&lt;question&gt;איזו צורת קרקע היא תוצאה של הכוח הבו...</td>\n",
       "      <td>&lt;question&gt;איזו צורת קרקע היא תוצאה של הכוח הבו...</td>\n",
       "      <td>&lt;question&gt;איזו צורת קרקע היא תוצאה של הכוח הבו...</td>\n",
       "      <td>&lt;question&gt;איזו צורת קרקע היא תוצאה של הכוח הבו...</td>\n",
       "      <td>&lt;question&gt;איזו צורת קרקע היא תוצאה של הכוח הבו...</td>\n",
       "      <td>&lt;question&gt;איזו צורת נוף היא תוצאה של הכוח הבונ...</td>\n",
       "      <td>&lt;question&gt;איזו תצורת נוף היא תוצאה של הכוח הבו...</td>\n",
       "      <td>&lt;question&gt;איזו צורת נוף היא תוצאה של הכוח הבונ...</td>\n",
       "      <td>&lt;question&gt;איזו צורת נוף היא תוצאה של כוח בונה ...</td>\n",
       "      <td>&lt;question&gt;איזו צורת נוף היא תוצאה של הכוח הבונ...</td>\n",
       "      <td>&lt;question&gt;איזו צורת נוף היא תוצאה של כוח בונה ...</td>\n",
       "      <td>&lt;question&gt;איזו צורת נוף היא תוצאה של הכוח הבונ...</td>\n",
       "    </tr>\n",
       "    <tr>\n",
       "      <th>1</th>\n",
       "      <td>&lt;question&gt;Which statement best compares single...</td>\n",
       "      <td>&lt;question&gt;איזה היגד משווה בצורה הטובה ביותר בי...</td>\n",
       "      <td>&lt;question&gt;איזה היגד משווה בצורה הטובה ביותר בי...</td>\n",
       "      <td>&lt;question&gt;איזה היגד משווה בצורה הטובה ביותר בי...</td>\n",
       "      <td>&lt;question&gt;איזה היגד משווה בצורה הטובה ביותר בי...</td>\n",
       "      <td>&lt;question&gt;איזה היגד משווה בצורה הטובה ביותר בי...</td>\n",
       "      <td>&lt;question&gt;איזה היגד משווה בצורה הטובה ביותר בי...</td>\n",
       "      <td>&lt;question&gt;איזה היגד משווה בצורה הטובה ביותר או...</td>\n",
       "      <td>&lt;question&gt;איזה היגד משווה בצורה הטובה ביותר בי...</td>\n",
       "      <td>&lt;question&gt;איזו טענה משווה בצורה הטובה ביותר בי...</td>\n",
       "      <td>&lt;question&gt;איזה היגד משווה בצורה הטובה ביותר בי...</td>\n",
       "      <td>&lt;question&gt;איזה היגד משווה בצורה הטובה ביותר בי...</td>\n",
       "      <td>&lt;question&gt;איזה היגד משווה בצורה הטובה ביותר בי...</td>\n",
       "      <td>&lt;question&gt;איזה היגד משווה בצורה הטובה ביותר בי...</td>\n",
       "    </tr>\n",
       "    <tr>\n",
       "      <th>2</th>\n",
       "      <td>&lt;question&gt;As part of an experiment, an astrona...</td>\n",
       "      <td>&lt;question&gt;כחלק מניסוי, אסטרונאוט לוקח משקל ליר...</td>\n",
       "      <td>&lt;question&gt;כחלק מניסוי, אסטרונאוט לוקח משקל ליר...</td>\n",
       "      <td>&lt;question&gt;כחלק מניסוי, אסטרונאוט לוקח משקל ליר...</td>\n",
       "      <td>&lt;question&gt;כחלק מניסוי, אסטרונאוט לוקח משקל ליר...</td>\n",
       "      <td>&lt;question&gt;כחלק מניסוי, אסטרונאוט לוקח משקל ליר...</td>\n",
       "      <td>&lt;question&gt;כחלק מניסוי, אסטרונאוט לוקח משקל ליר...</td>\n",
       "      <td>&lt;question&gt;כחלק מניסוי, אסטרונאוט לוקח משקל ליר...</td>\n",
       "      <td>&lt;question&gt;כחלק מניסוי, אסטרונאוט לוקח משקל ליר...</td>\n",
       "      <td>&lt;question&gt;כחלק מניסוי, אסטרונאוט לוקח מאזניים ...</td>\n",
       "      <td>&lt;question&gt;כחלק מניסוי, אסטרונאוט לוקח משקל ליר...</td>\n",
       "      <td>&lt;question&gt;כחלק מניסוי, אסטרונאוט לוקח מאזניים ...</td>\n",
       "      <td>&lt;question&gt;כחלק מניסוי, אסטרונאוט לוקח מאזניים ...</td>\n",
       "      <td>&lt;question&gt;כחלק מניסוי, אסטרונאוט לוקח מאזניים ...</td>\n",
       "    </tr>\n",
       "  </tbody>\n",
       "</table>\n",
       "</div>"
      ],
      "text/plain": [
       "                                            original  \\\n",
       "0  <question>Which land form is the result of the...   \n",
       "1  <question>Which statement best compares single...   \n",
       "2  <question>As part of an experiment, an astrona...   \n",
       "\n",
       "                                           claude_v1  \\\n",
       "0  <question>איזו צורת קרקע היא תוצאה של הכוח הבו...   \n",
       "1  <question>איזה היגד משווה בצורה הטובה ביותר בי...   \n",
       "2  <question>כחלק מניסוי, אסטרונאוט לוקח משקל ליר...   \n",
       "\n",
       "                                           claude_v2  \\\n",
       "0  <question>איזו צורת קרקע היא תוצאה של הכוח הבו...   \n",
       "1  <question>איזה היגד משווה בצורה הטובה ביותר בי...   \n",
       "2  <question>כחלק מניסוי, אסטרונאוט לוקח משקל ליר...   \n",
       "\n",
       "                                           claude_v3  \\\n",
       "0  <question>איזו צורת קרקע היא תוצאה של הכוח הבו...   \n",
       "1  <question>איזה היגד משווה בצורה הטובה ביותר בי...   \n",
       "2  <question>כחלק מניסוי, אסטרונאוט לוקח משקל ליר...   \n",
       "\n",
       "                                           claude_v4  \\\n",
       "0  <question>איזו צורת קרקע היא תוצאה של הכוח הבו...   \n",
       "1  <question>איזה היגד משווה בצורה הטובה ביותר בי...   \n",
       "2  <question>כחלק מניסוי, אסטרונאוט לוקח משקל ליר...   \n",
       "\n",
       "                                           claude_v5  \\\n",
       "0  <question>איזו צורת קרקע היא תוצאה של הכוח הבו...   \n",
       "1  <question>איזה היגד משווה בצורה הטובה ביותר בי...   \n",
       "2  <question>כחלק מניסוי, אסטרונאוט לוקח משקל ליר...   \n",
       "\n",
       "                                           claude_v6  \\\n",
       "0  <question>איזו צורת קרקע היא תוצאה של הכוח הבו...   \n",
       "1  <question>איזה היגד משווה בצורה הטובה ביותר בי...   \n",
       "2  <question>כחלק מניסוי, אסטרונאוט לוקח משקל ליר...   \n",
       "\n",
       "                                           gemini_v1  \\\n",
       "0  <question>איזו צורת נוף היא תוצאה של הכוח הבונ...   \n",
       "1  <question>איזה היגד משווה בצורה הטובה ביותר או...   \n",
       "2  <question>כחלק מניסוי, אסטרונאוט לוקח משקל ליר...   \n",
       "\n",
       "                                       gemini_pro_v1  \\\n",
       "0  <question>איזו תצורת נוף היא תוצאה של הכוח הבו...   \n",
       "1  <question>איזה היגד משווה בצורה הטובה ביותר בי...   \n",
       "2  <question>כחלק מניסוי, אסטרונאוט לוקח משקל ליר...   \n",
       "\n",
       "                                           gemini_v2  \\\n",
       "0  <question>איזו צורת נוף היא תוצאה של הכוח הבונ...   \n",
       "1  <question>איזו טענה משווה בצורה הטובה ביותר בי...   \n",
       "2  <question>כחלק מניסוי, אסטרונאוט לוקח מאזניים ...   \n",
       "\n",
       "                                       gemini_pro_v2  \\\n",
       "0  <question>איזו צורת נוף היא תוצאה של כוח בונה ...   \n",
       "1  <question>איזה היגד משווה בצורה הטובה ביותר בי...   \n",
       "2  <question>כחלק מניסוי, אסטרונאוט לוקח משקל ליר...   \n",
       "\n",
       "                                     gemini_v2_think  \\\n",
       "0  <question>איזו צורת נוף היא תוצאה של הכוח הבונ...   \n",
       "1  <question>איזה היגד משווה בצורה הטובה ביותר בי...   \n",
       "2  <question>כחלק מניסוי, אסטרונאוט לוקח מאזניים ...   \n",
       "\n",
       "                                           gemini_v3  \\\n",
       "0  <question>איזו צורת נוף היא תוצאה של כוח בונה ...   \n",
       "1  <question>איזה היגד משווה בצורה הטובה ביותר בי...   \n",
       "2  <question>כחלק מניסוי, אסטרונאוט לוקח מאזניים ...   \n",
       "\n",
       "                                     gemini_v3_think  \n",
       "0  <question>איזו צורת נוף היא תוצאה של הכוח הבונ...  \n",
       "1  <question>איזה היגד משווה בצורה הטובה ביותר בי...  \n",
       "2  <question>כחלק מניסוי, אסטרונאוט לוקח מאזניים ...  "
      ]
     },
     "execution_count": 7,
     "metadata": {},
     "output_type": "execute_result"
    }
   ],
   "source": [
    "df = pd.read_csv(file_name)\n",
    "df.head(3)"
   ]
  },
  {
   "cell_type": "markdown",
   "id": "0110eefb-aab4-451d-b273-b0d5a554c91f",
   "metadata": {},
   "source": [
    "## Run Translation"
   ]
  },
  {
   "cell_type": "markdown",
   "id": "36f09840-3fa3-4124-8feb-a52d8cb213f9",
   "metadata": {
    "jp-MarkdownHeadingCollapsed": true
   },
   "source": [
    "### Claude"
   ]
  },
  {
   "cell_type": "code",
   "execution_count": 91,
   "id": "8451a51a-b126-49ed-aa5b-e047a2c338fa",
   "metadata": {},
   "outputs": [
    {
     "name": "stdout",
     "output_type": "stream",
     "text": [
      "Translating arc_challenge_train...\n"
     ]
    },
    {
     "data": {
      "application/vnd.jupyter.widget-view+json": {
       "model_id": "9eaed3c89ba5448ba5da97efbe2a43b0",
       "version_major": 2,
       "version_minor": 0
      },
      "text/plain": [
       "  0%|          | 0/50 [00:00<?, ?it/s]"
      ]
     },
     "metadata": {},
     "output_type": "display_data"
    }
   ],
   "source": [
    "exp_name = 'claude_v6'\n",
    "\n",
    "hebrew_datasets = claude_translation(\n",
    "    bedrock_client,\n",
    "    arc_dataset,\n",
    "    arc_prompts.ARC_INSTRUCT_V6_CLAUDE,\n",
    "    arc_prompts.ARC_FEW_SHOTS,\n",
    "    arc_prompts.ARC_FORMAT,\n",
    "    arc_ai.arc_sample_to_dict,\n",
    "    arc_ai.arc_dict_to_sample,\n",
    ")"
   ]
  },
  {
   "cell_type": "code",
   "execution_count": 5,
   "id": "e271e9d5-6144-461e-b171-8fbcd27220f6",
   "metadata": {},
   "outputs": [
    {
     "data": {
      "text/html": [
       "<div>\n",
       "<style scoped>\n",
       "    .dataframe tbody tr th:only-of-type {\n",
       "        vertical-align: middle;\n",
       "    }\n",
       "\n",
       "    .dataframe tbody tr th {\n",
       "        vertical-align: top;\n",
       "    }\n",
       "\n",
       "    .dataframe thead th {\n",
       "        text-align: right;\n",
       "    }\n",
       "</style>\n",
       "<table border=\"1\" class=\"dataframe\">\n",
       "  <thead>\n",
       "    <tr style=\"text-align: right;\">\n",
       "      <th></th>\n",
       "      <th>original</th>\n",
       "      <th>claude_v1</th>\n",
       "      <th>claude_v2</th>\n",
       "      <th>claude_v3</th>\n",
       "      <th>claude_v4</th>\n",
       "      <th>claude_v5</th>\n",
       "      <th>claude_v6</th>\n",
       "    </tr>\n",
       "  </thead>\n",
       "  <tbody>\n",
       "    <tr>\n",
       "      <th>0</th>\n",
       "      <td>&lt;question&gt;Which land form is the result of the...</td>\n",
       "      <td>&lt;question&gt;איזו צורת קרקע היא תוצאה של הכוח הבו...</td>\n",
       "      <td>&lt;question&gt;איזו צורת קרקע היא תוצאה של הכוח הבו...</td>\n",
       "      <td>&lt;question&gt;איזו צורת קרקע היא תוצאה של הכוח הבו...</td>\n",
       "      <td>&lt;question&gt;איזו צורת קרקע היא תוצאה של הכוח הבו...</td>\n",
       "      <td>&lt;question&gt;איזו צורת קרקע היא תוצאה של הכוח הבו...</td>\n",
       "      <td>&lt;question&gt;איזו צורת קרקע היא תוצאה של הכוח הבו...</td>\n",
       "    </tr>\n",
       "    <tr>\n",
       "      <th>1</th>\n",
       "      <td>&lt;question&gt;Which statement best compares single...</td>\n",
       "      <td>&lt;question&gt;איזה היגד משווה בצורה הטובה ביותר בי...</td>\n",
       "      <td>&lt;question&gt;איזה היגד משווה בצורה הטובה ביותר בי...</td>\n",
       "      <td>&lt;question&gt;איזה היגד משווה בצורה הטובה ביותר בי...</td>\n",
       "      <td>&lt;question&gt;איזה היגד משווה בצורה הטובה ביותר בי...</td>\n",
       "      <td>&lt;question&gt;איזה היגד משווה בצורה הטובה ביותר בי...</td>\n",
       "      <td>&lt;question&gt;איזה היגד משווה בצורה הטובה ביותר בי...</td>\n",
       "    </tr>\n",
       "  </tbody>\n",
       "</table>\n",
       "</div>"
      ],
      "text/plain": [
       "                                            original  \\\n",
       "0  <question>Which land form is the result of the...   \n",
       "1  <question>Which statement best compares single...   \n",
       "\n",
       "                                           claude_v1  \\\n",
       "0  <question>איזו צורת קרקע היא תוצאה של הכוח הבו...   \n",
       "1  <question>איזה היגד משווה בצורה הטובה ביותר בי...   \n",
       "\n",
       "                                           claude_v2  \\\n",
       "0  <question>איזו צורת קרקע היא תוצאה של הכוח הבו...   \n",
       "1  <question>איזה היגד משווה בצורה הטובה ביותר בי...   \n",
       "\n",
       "                                           claude_v3  \\\n",
       "0  <question>איזו צורת קרקע היא תוצאה של הכוח הבו...   \n",
       "1  <question>איזה היגד משווה בצורה הטובה ביותר בי...   \n",
       "\n",
       "                                           claude_v4  \\\n",
       "0  <question>איזו צורת קרקע היא תוצאה של הכוח הבו...   \n",
       "1  <question>איזה היגד משווה בצורה הטובה ביותר בי...   \n",
       "\n",
       "                                           claude_v5  \\\n",
       "0  <question>איזו צורת קרקע היא תוצאה של הכוח הבו...   \n",
       "1  <question>איזה היגד משווה בצורה הטובה ביותר בי...   \n",
       "\n",
       "                                           claude_v6  \n",
       "0  <question>איזו צורת קרקע היא תוצאה של הכוח הבו...  \n",
       "1  <question>איזה היגד משווה בצורה הטובה ביותר בי...  "
      ]
     },
     "execution_count": 5,
     "metadata": {},
     "output_type": "execute_result"
    }
   ],
   "source": [
    "df = add_dataset_to_csv(file_name, exp_name, hebrew_datasets['arc_challenge_train'], arc_ai.arc_sample_to_dict)\n",
    "df.head(2)"
   ]
  },
  {
   "cell_type": "markdown",
   "id": "ba1a501e-f0e0-4897-a3d2-f922f52d9719",
   "metadata": {},
   "source": [
    "### Gemini"
   ]
  },
  {
   "cell_type": "code",
   "execution_count": 21,
   "id": "6dcc499b-39ce-46ae-b20f-e1e0ce44fd93",
   "metadata": {},
   "outputs": [
    {
     "name": "stdout",
     "output_type": "stream",
     "text": [
      "Translating arc_challenge_train...\n"
     ]
    },
    {
     "data": {
      "application/vnd.jupyter.widget-view+json": {
       "model_id": "15939f7943954791abec42f1f23687dc",
       "version_major": 2,
       "version_minor": 0
      },
      "text/plain": [
       "  0%|          | 0/50 [00:00<?, ?it/s]"
      ]
     },
     "metadata": {},
     "output_type": "display_data"
    },
    {
     "name": "stdout",
     "output_type": "stream",
     "text": [
      "Sleeping.... Done!                                "
     ]
    }
   ],
   "source": [
    "exp_name = 'gemini_v1_think'\n",
    "\n",
    "hebrew_datasets = gemini_translation(\n",
    "    google_client,\n",
    "    arc_dataset,\n",
    "    arc_prompts.ARC_INSTRUCT_V1_GEMINI,\n",
    "    arc_prompts.ARC_FEW_SHOTS,\n",
    "    # arc_prompts.ARC_SYSTEM_V2_GEMINI,\n",
    "    # arc_prompts.ARC_INSTRUCT_V3_GEMINI + '\\n\\n' + arc_prompts.ARC_FEW_SHOTS,\n",
    "    arc_ai.arc_sample_to_dict,\n",
    "    arc_ai.arc_dict_to_sample,\n",
    "    if_pro=False,\n",
    "    think_bud=10_000\n",
    ")"
   ]
  },
  {
   "cell_type": "code",
   "execution_count": null,
   "id": "bdb39f7f-5103-4c98-b34d-ef7e696fdfde",
   "metadata": {},
   "outputs": [],
   "source": [
    "hebrew_datasets"
   ]
  },
  {
   "cell_type": "code",
   "execution_count": 23,
   "id": "1b424a8f-12bb-4692-8094-36f7e5efa680",
   "metadata": {},
   "outputs": [
    {
     "data": {
      "text/html": [
       "<div>\n",
       "<style scoped>\n",
       "    .dataframe tbody tr th:only-of-type {\n",
       "        vertical-align: middle;\n",
       "    }\n",
       "\n",
       "    .dataframe tbody tr th {\n",
       "        vertical-align: top;\n",
       "    }\n",
       "\n",
       "    .dataframe thead th {\n",
       "        text-align: right;\n",
       "    }\n",
       "</style>\n",
       "<table border=\"1\" class=\"dataframe\">\n",
       "  <thead>\n",
       "    <tr style=\"text-align: right;\">\n",
       "      <th></th>\n",
       "      <th>original</th>\n",
       "      <th>claude_v1</th>\n",
       "      <th>claude_v2</th>\n",
       "      <th>claude_v3</th>\n",
       "      <th>claude_v4</th>\n",
       "      <th>claude_v5</th>\n",
       "      <th>claude_v6</th>\n",
       "      <th>gemini_v1</th>\n",
       "      <th>gemini_pro_v1</th>\n",
       "      <th>gemini_v2</th>\n",
       "      <th>gemini_pro_v2</th>\n",
       "      <th>gemini_v2_think</th>\n",
       "      <th>gemini_v3</th>\n",
       "      <th>gemini_v3_think</th>\n",
       "      <th>gemini_pro_v1_think</th>\n",
       "      <th>gemini_v1_think</th>\n",
       "    </tr>\n",
       "  </thead>\n",
       "  <tbody>\n",
       "    <tr>\n",
       "      <th>0</th>\n",
       "      <td>&lt;question&gt;Which land form is the result of the...</td>\n",
       "      <td>&lt;question&gt;איזו צורת קרקע היא תוצאה של הכוח הבו...</td>\n",
       "      <td>&lt;question&gt;איזו צורת קרקע היא תוצאה של הכוח הבו...</td>\n",
       "      <td>&lt;question&gt;איזו צורת קרקע היא תוצאה של הכוח הבו...</td>\n",
       "      <td>&lt;question&gt;איזו צורת קרקע היא תוצאה של הכוח הבו...</td>\n",
       "      <td>&lt;question&gt;איזו צורת קרקע היא תוצאה של הכוח הבו...</td>\n",
       "      <td>&lt;question&gt;איזו צורת קרקע היא תוצאה של הכוח הבו...</td>\n",
       "      <td>&lt;question&gt;איזו צורת נוף היא תוצאה של הכוח הבונ...</td>\n",
       "      <td>&lt;question&gt;איזו תצורת נוף היא תוצאה של הכוח הבו...</td>\n",
       "      <td>&lt;question&gt;איזו צורת נוף היא תוצאה של הכוח הבונ...</td>\n",
       "      <td>&lt;question&gt;איזו צורת נוף היא תוצאה של כוח בונה ...</td>\n",
       "      <td>&lt;question&gt;איזו צורת נוף היא תוצאה של הכוח הבונ...</td>\n",
       "      <td>&lt;question&gt;איזו צורת נוף היא תוצאה של כוח בונה ...</td>\n",
       "      <td>&lt;question&gt;איזו צורת נוף היא תוצאה של הכוח הבונ...</td>\n",
       "      <td>&lt;question&gt;איזו תצורת נוף היא תוצאה של הכוח הבו...</td>\n",
       "      <td>&lt;question&gt;איזו צורת נוף היא תוצאה של הכוח הבונ...</td>\n",
       "    </tr>\n",
       "    <tr>\n",
       "      <th>1</th>\n",
       "      <td>&lt;question&gt;Which statement best compares single...</td>\n",
       "      <td>&lt;question&gt;איזה היגד משווה בצורה הטובה ביותר בי...</td>\n",
       "      <td>&lt;question&gt;איזה היגד משווה בצורה הטובה ביותר בי...</td>\n",
       "      <td>&lt;question&gt;איזה היגד משווה בצורה הטובה ביותר בי...</td>\n",
       "      <td>&lt;question&gt;איזה היגד משווה בצורה הטובה ביותר בי...</td>\n",
       "      <td>&lt;question&gt;איזה היגד משווה בצורה הטובה ביותר בי...</td>\n",
       "      <td>&lt;question&gt;איזה היגד משווה בצורה הטובה ביותר בי...</td>\n",
       "      <td>&lt;question&gt;איזה היגד משווה בצורה הטובה ביותר או...</td>\n",
       "      <td>&lt;question&gt;איזה היגד משווה בצורה הטובה ביותר בי...</td>\n",
       "      <td>&lt;question&gt;איזו טענה משווה בצורה הטובה ביותר בי...</td>\n",
       "      <td>&lt;question&gt;איזה היגד משווה בצורה הטובה ביותר בי...</td>\n",
       "      <td>&lt;question&gt;איזה היגד משווה בצורה הטובה ביותר בי...</td>\n",
       "      <td>&lt;question&gt;איזה היגד משווה בצורה הטובה ביותר בי...</td>\n",
       "      <td>&lt;question&gt;איזה היגד משווה בצורה הטובה ביותר בי...</td>\n",
       "      <td>&lt;question&gt;איזה היגד משווה בצורה הטובה ביותר בי...</td>\n",
       "      <td>&lt;question&gt;איזה היגד משווה בצורה הטובה ביותר או...</td>\n",
       "    </tr>\n",
       "  </tbody>\n",
       "</table>\n",
       "</div>"
      ],
      "text/plain": [
       "                                            original  \\\n",
       "0  <question>Which land form is the result of the...   \n",
       "1  <question>Which statement best compares single...   \n",
       "\n",
       "                                           claude_v1  \\\n",
       "0  <question>איזו צורת קרקע היא תוצאה של הכוח הבו...   \n",
       "1  <question>איזה היגד משווה בצורה הטובה ביותר בי...   \n",
       "\n",
       "                                           claude_v2  \\\n",
       "0  <question>איזו צורת קרקע היא תוצאה של הכוח הבו...   \n",
       "1  <question>איזה היגד משווה בצורה הטובה ביותר בי...   \n",
       "\n",
       "                                           claude_v3  \\\n",
       "0  <question>איזו צורת קרקע היא תוצאה של הכוח הבו...   \n",
       "1  <question>איזה היגד משווה בצורה הטובה ביותר בי...   \n",
       "\n",
       "                                           claude_v4  \\\n",
       "0  <question>איזו צורת קרקע היא תוצאה של הכוח הבו...   \n",
       "1  <question>איזה היגד משווה בצורה הטובה ביותר בי...   \n",
       "\n",
       "                                           claude_v5  \\\n",
       "0  <question>איזו צורת קרקע היא תוצאה של הכוח הבו...   \n",
       "1  <question>איזה היגד משווה בצורה הטובה ביותר בי...   \n",
       "\n",
       "                                           claude_v6  \\\n",
       "0  <question>איזו צורת קרקע היא תוצאה של הכוח הבו...   \n",
       "1  <question>איזה היגד משווה בצורה הטובה ביותר בי...   \n",
       "\n",
       "                                           gemini_v1  \\\n",
       "0  <question>איזו צורת נוף היא תוצאה של הכוח הבונ...   \n",
       "1  <question>איזה היגד משווה בצורה הטובה ביותר או...   \n",
       "\n",
       "                                       gemini_pro_v1  \\\n",
       "0  <question>איזו תצורת נוף היא תוצאה של הכוח הבו...   \n",
       "1  <question>איזה היגד משווה בצורה הטובה ביותר בי...   \n",
       "\n",
       "                                           gemini_v2  \\\n",
       "0  <question>איזו צורת נוף היא תוצאה של הכוח הבונ...   \n",
       "1  <question>איזו טענה משווה בצורה הטובה ביותר בי...   \n",
       "\n",
       "                                       gemini_pro_v2  \\\n",
       "0  <question>איזו צורת נוף היא תוצאה של כוח בונה ...   \n",
       "1  <question>איזה היגד משווה בצורה הטובה ביותר בי...   \n",
       "\n",
       "                                     gemini_v2_think  \\\n",
       "0  <question>איזו צורת נוף היא תוצאה של הכוח הבונ...   \n",
       "1  <question>איזה היגד משווה בצורה הטובה ביותר בי...   \n",
       "\n",
       "                                           gemini_v3  \\\n",
       "0  <question>איזו צורת נוף היא תוצאה של כוח בונה ...   \n",
       "1  <question>איזה היגד משווה בצורה הטובה ביותר בי...   \n",
       "\n",
       "                                     gemini_v3_think  \\\n",
       "0  <question>איזו צורת נוף היא תוצאה של הכוח הבונ...   \n",
       "1  <question>איזה היגד משווה בצורה הטובה ביותר בי...   \n",
       "\n",
       "                                 gemini_pro_v1_think  \\\n",
       "0  <question>איזו תצורת נוף היא תוצאה של הכוח הבו...   \n",
       "1  <question>איזה היגד משווה בצורה הטובה ביותר בי...   \n",
       "\n",
       "                                     gemini_v1_think  \n",
       "0  <question>איזו צורת נוף היא תוצאה של הכוח הבונ...  \n",
       "1  <question>איזה היגד משווה בצורה הטובה ביותר או...  "
      ]
     },
     "execution_count": 23,
     "metadata": {},
     "output_type": "execute_result"
    }
   ],
   "source": [
    "df = add_dataset_to_csv(file_name, exp_name, hebrew_datasets['arc_challenge_train'], arc_ai.arc_sample_to_dict)\n",
    "df.head(2)"
   ]
  },
  {
   "cell_type": "markdown",
   "id": "969f75a8-d838-442c-8c57-c9a41949e0e8",
   "metadata": {},
   "source": [
    "### Multi-options Translation - Claude"
   ]
  },
  {
   "cell_type": "code",
   "execution_count": null,
   "id": "fc62614a-2efc-45ea-b58f-36ca66790d22",
   "metadata": {},
   "outputs": [],
   "source": []
  },
  {
   "cell_type": "markdown",
   "id": "f1691522-c65b-44ef-9bd4-3a8eefa04c3a",
   "metadata": {
    "jp-MarkdownHeadingCollapsed": true
   },
   "source": [
    "### Multi-options Translation - Gemini"
   ]
  },
  {
   "cell_type": "code",
   "execution_count": null,
   "id": "150eb3a5-ae0a-40c0-8325-fcc4c4a861fa",
   "metadata": {},
   "outputs": [],
   "source": [
    "print(arc_prompts.ARC_INSTRUCT_MULTI_V1)"
   ]
  },
  {
   "cell_type": "code",
   "execution_count": null,
   "id": "ccaea7b1-aadf-416a-8a18-73506becba74",
   "metadata": {},
   "outputs": [],
   "source": [
    "hebrew_datasets = gemini_multi_translation(\n",
    "    google_client,\n",
    "    arc_dataset,\n",
    "    arc_prompts.ARC_INSTRUCT_MULTI_V1,\n",
    "    arc_prompts.ARC_FEW_SHOTS,\n",
    "    arc_ai.arc_sample_to_dict,\n",
    "    arc_ai.arc_dict_to_sample,\n",
    ")"
   ]
  },
  {
   "cell_type": "markdown",
   "id": "3844fb4b-f71b-4f7c-82ef-57c51f3e3f76",
   "metadata": {},
   "source": [
    "___"
   ]
  },
  {
   "cell_type": "raw",
   "id": "2e140d41-d017-45f2-8c56-d71f50d7a905",
   "metadata": {},
   "source": [
    "original, hebrew = gemini_multi_translation(\n",
    "    google_client,\n",
    "    arc_dataset,\n",
    "    arc_prompts.ARC_INSTRUCT_MULTI_V1,\n",
    "    arc_prompts.ARC_FEW_SHOTS,\n",
    "    arc_ai.arc_sample_to_dict,\n",
    "    arc_ai.arc_dict_to_sample,\n",
    ")"
   ]
  },
  {
   "cell_type": "raw",
   "id": "65643b31-67b8-4264-8849-ccf7ab4c7198",
   "metadata": {},
   "source": [
    "original, hebrew"
   ]
  },
  {
   "cell_type": "raw",
   "id": "f741f3dc-1cb4-4e9f-840e-39d61c97d71e",
   "metadata": {},
   "source": [
    "from src.translate_func import CHOOSE_INSTRUCT, options_to_prompt\n",
    "choose_config = all_string_gemini_config(original.keys(), system_instruction=CHOOSE_INSTRUCT)"
   ]
  },
  {
   "cell_type": "raw",
   "id": "ddc46e88-2391-4902-8e18-5c68a8ec7697",
   "metadata": {},
   "source": [
    "q = options_to_prompt(original, hebrew)\n",
    "print(q)"
   ]
  },
  {
   "cell_type": "raw",
   "id": "8ca79d4e-6ff7-4d01-801a-0ae0b28866cf",
   "metadata": {},
   "source": [
    "output = call_gemini(google_client, q, choose_config)"
   ]
  },
  {
   "cell_type": "raw",
   "id": "7edc1461-db21-40f5-adaa-f4db0910c0a2",
   "metadata": {},
   "source": [
    "output.parsed"
   ]
  },
  {
   "cell_type": "markdown",
   "id": "851254f5-cfbf-462e-98dd-3338614ff9ef",
   "metadata": {},
   "source": [
    "### Claude vs Gemini (using Gemini as judge)"
   ]
  },
  {
   "cell_type": "code",
   "execution_count": 39,
   "id": "57be9b99-ecbc-40d2-8709-6141e6cc63bc",
   "metadata": {},
   "outputs": [
    {
     "data": {
      "text/plain": [
       "Index(['original', 'claude_v1', 'claude_v2', 'claude_v3', 'claude_v4',\n",
       "       'claude_v5', 'claude_v6', 'gemini_v1', 'gemini_pro_v1', 'gemini_v2',\n",
       "       'gemini_pro_v2', 'gemini_v2_think', 'gemini_v3', 'gemini_v3_think',\n",
       "       'gemini_pro_v1_think', 'gemini_v1_think'],\n",
       "      dtype='object')"
      ]
     },
     "execution_count": 39,
     "metadata": {},
     "output_type": "execute_result"
    }
   ],
   "source": [
    "df.columns"
   ]
  },
  {
   "cell_type": "code",
   "execution_count": 40,
   "id": "5f375e5c-cbe0-488b-b8e8-3c6b106dfb1e",
   "metadata": {},
   "outputs": [],
   "source": [
    "best_claude = 'claude_v6'\n",
    "# best_gemini = 'gemini_v1_think'\n",
    "best_gemini = 'gemini_pro_v1_think'"
   ]
  },
  {
   "cell_type": "code",
   "execution_count": null,
   "id": "8d2b0457-ee00-42e0-9f31-4a357af7e300",
   "metadata": {},
   "outputs": [],
   "source": []
  },
  {
   "cell_type": "code",
   "execution_count": null,
   "id": "97657086-d183-4ab9-b3fd-3c86bf7fb34d",
   "metadata": {},
   "outputs": [],
   "source": [
    "hebrew_datasets = gemini_claude_best_translation(\n",
    "    google_client,\n",
    "    bedrock_client,\n",
    "    arc_dataset,\n",
    "    arc_prompts.ARC_INSTRUCT_V,\n",
    "    arc_prompts.ARC_FEW_SHOTS,\n",
    "    arc_prompts.ARC_FORMAT,\n",
    "    arc_ai.arc_sample_to_dict,\n",
    "    arc_ai.arc_dict_to_sample,\n",
    ")"
   ]
  },
  {
   "cell_type": "markdown",
   "id": "296388da-d4fb-4b36-a2db-1c57f951882e",
   "metadata": {
    "jp-MarkdownHeadingCollapsed": true
   },
   "source": [
    "# GSM8K"
   ]
  },
  {
   "cell_type": "code",
   "execution_count": null,
   "id": "7199e18c-20c5-43c0-8927-207ededa0f3b",
   "metadata": {},
   "outputs": [],
   "source": [
    "\"\"\"<instruction>\n",
    "Your task is to translate the given English question and answer into Hebrew, following these guidelines:\n",
    "\n",
    "<guidelines>\n",
    "1. Only translate the provided question and answer. Do not add any additional text or instructions.\n",
    "2. Preserve the original meaning and intent of the question and answer as accurately as possible in the Hebrew translation.\n",
    "3. Maintain the same structure and formatting as the original English version, including bullet points, numbering, or other formatting elements.\n",
    "</guidelines>\n",
    "\n",
    "<example_format>\n",
    "Provide the Hebrew translation immediately after these instructions in the following format:\n",
    "\n",
    "<question>\n",
    "Translated question\n",
    "</question>\n",
    "<answer>\n",
    "Translated answer\n",
    "</answer>\n",
    "</example_format>\n",
    "</instruction>\n",
    "\n",
    "<fewshot_examples>\n",
    "<example>\n",
    "English:\n",
    "<question>\n",
    "In April, Tank gathered 10 more Easter eggs than Emma in their first round of egg hunt. However, Emma gathered twice as many eggs as Tank in their second round of egg hunt, while Tank's total number of eggs in the second round was 20 less than the number she had gathered in the first round. If the total number of eggs in the pile they were collecting with 6 other people was 400 eggs, and Emma gathered 60 eggs in the second egg hunt round, find the number of eggs that the 6 other egg hunters collected?\n",
    "</question>\n",
    "<answer>\n",
    "Tank's total number of eggs in the second round was 60/2=<<60/2=30>>30 since Emma gathered twice as many eggs as Tank in their second round of egg hunt.\n",
    "The total number of eggs that Emma and Tank gathered in the second round was 60+30=<<60+30=90>>90\n",
    "Tank's total number of eggs in the second round was 20 less than the number she had gathered in the first round, meaning she had gathered 30+20=<<30+20=50>>50 eggs in the first round of egg hunt.\n",
    "Tank gathered 10 more Easter eggs than Emma in their first round of egg hunt, meaning Emma collected 50-10=40 eggs\n",
    "The total number of eggs Emma and Tank collected in the first round was 40+50=<<40+50=90>>90\n",
    "In the two rounds, Emma and Tank gathered 90+90=<<90+90=180>>180 eggs\n",
    "If the total number of eggs in the pile they were collecting with 6 other people was 400 eggs, the six other people gathered 400-180=<<400-180=220>>220 eggs\n",
    "#### 220\n",
    "</answer>\n",
    "\n",
    "Hebrew:\n",
    "<question>\n",
    "באפריל, טאנק אספה 10 ביצי פסחא יותר מאמה בסבב הראשון של ציד ביצים. עם זאת, אמה אספה פי שניים ביצים מטאנק בסבב השני של ציד ביצים, בעוד שהמספר הכולל של הביצים של טאנק בסבב השני היה 20 פחות מהמספר שהיא אספה בסבב הראשון. אם המספר הכולל של הביצים בערימה שהן אספו יחד עם 6 אנשים נוספים היה 400 ביצים, ואמה אספה 60 ביצים בסבב השני של ציד ביצים, מצאו את מספר הביצים שאספו 6 ציידי הביצים האחרים?\n",
    "</question>\n",
    "<answer>\n",
    "מספר ביצי הפסחא הכולל של טאנק בסיבוב השני היה 60/2=<<60/2=30>>30 מכיוון שאמה אספה פי שניים ביצי פסחא מטנק בסיבוב השני שלהן בציד הביצים.\n",
    "מספר ביצי הפסחא הכולל שאמה וטאנק אספו בסיבוב השני היה 60+30=<<60+30=90>>90\n",
    "מספר ביצי הפסחא הכולל של טאנק בסיבוב השני היה 20 פחות ממספר הביצים שהיא אספה בסיבוב הראשון, כלומר היא אספה 30+20=<<30+20=50>>50 ביצי פסחא בסיבוב הראשון של ציד הביצים.\n",
    "טאנק אספה 10 ביצי פסחא יותר מאמה בסיבוב הראשון שלהן בציד הביצים, כלומר אמה אספה 50-10=40 ביצי פסחא\n",
    "מספר ביצי הפסחא הכולל שאמה וטאנק אספו בסיבוב הראשון היה 40+50=<<40+50=90>>90\n",
    "בשני הסיבובים, אמה וטאנק אספו 90+90=<<90+90=180>>180 ביצי פסחא\n",
    "אם המספר הכולל של ביצי הפסחא בערימה שהן אספו יחד עם 6 אנשים אחרים היה 400 ביצים, ששת האנשים האחרים אספו 400-180=<<400-180=220>>220 ביצי פסחא\n",
    "#### 220\n",
    "</answer>\n",
    "</example>\n",
    "</fewshot_examples>\n",
    "\n",
    "\"\"\""
   ]
  }
 ],
 "metadata": {
  "kernelspec": {
   "display_name": "conda_pytorch_p310",
   "language": "python",
   "name": "conda_pytorch_p310"
  },
  "language_info": {
   "codemirror_mode": {
    "name": "ipython",
    "version": 3
   },
   "file_extension": ".py",
   "mimetype": "text/x-python",
   "name": "python",
   "nbconvert_exporter": "python",
   "pygments_lexer": "ipython3",
   "version": "3.10.14"
  }
 },
 "nbformat": 4,
 "nbformat_minor": 5
}
