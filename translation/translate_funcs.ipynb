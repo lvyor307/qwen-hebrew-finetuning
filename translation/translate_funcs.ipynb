{
 "cells": [
  {
   "cell_type": "code",
   "execution_count": null,
   "id": "de8480e5-c3d0-40b2-884c-66c86a21dfde",
   "metadata": {
    "scrolled": true
   },
   "outputs": [
    {
     "name": "stdout",
     "output_type": "stream",
     "text": [
      "Collecting datasets\n",
      "  Downloading datasets-3.6.0-py3-none-any.whl.metadata (19 kB)\n",
      "Requirement already satisfied: filelock in /home/ec2-user/anaconda3/envs/pytorch_p310/lib/python3.10/site-packages (from datasets) (3.16.1)\n",
      "Requirement already satisfied: numpy>=1.17 in /home/ec2-user/anaconda3/envs/pytorch_p310/lib/python3.10/site-packages (from datasets) (1.26.4)\n",
      "Requirement already satisfied: pyarrow>=15.0.0 in /home/ec2-user/anaconda3/envs/pytorch_p310/lib/python3.10/site-packages (from datasets) (20.0.0)\n",
      "Collecting dill<0.3.9,>=0.3.0 (from datasets)\n",
      "  Downloading dill-0.3.8-py3-none-any.whl.metadata (10 kB)\n",
      "Requirement already satisfied: pandas in /home/ec2-user/anaconda3/envs/pytorch_p310/lib/python3.10/site-packages (from datasets) (2.2.3)\n",
      "Requirement already satisfied: requests>=2.32.2 in /home/ec2-user/anaconda3/envs/pytorch_p310/lib/python3.10/site-packages (from datasets) (2.32.3)\n",
      "Requirement already satisfied: tqdm>=4.66.3 in /home/ec2-user/anaconda3/envs/pytorch_p310/lib/python3.10/site-packages (from datasets) (4.67.1)\n",
      "Collecting xxhash (from datasets)\n",
      "  Downloading xxhash-3.5.0-cp310-cp310-manylinux_2_17_x86_64.manylinux2014_x86_64.whl.metadata (12 kB)\n",
      "Collecting multiprocess<0.70.17 (from datasets)\n",
      "  Downloading multiprocess-0.70.16-py310-none-any.whl.metadata (7.2 kB)\n",
      "Collecting fsspec<=2025.3.0,>=2023.1.0 (from fsspec[http]<=2025.3.0,>=2023.1.0->datasets)\n",
      "  Downloading fsspec-2025.3.0-py3-none-any.whl.metadata (11 kB)\n",
      "Collecting huggingface-hub>=0.24.0 (from datasets)\n",
      "  Downloading huggingface_hub-0.33.2-py3-none-any.whl.metadata (14 kB)\n",
      "Requirement already satisfied: packaging in /home/ec2-user/anaconda3/envs/pytorch_p310/lib/python3.10/site-packages (from datasets) (24.2)\n",
      "Requirement already satisfied: pyyaml>=5.1 in /home/ec2-user/anaconda3/envs/pytorch_p310/lib/python3.10/site-packages (from datasets) (6.0.2)\n",
      "Collecting aiohttp!=4.0.0a0,!=4.0.0a1 (from fsspec[http]<=2025.3.0,>=2023.1.0->datasets)\n",
      "  Downloading aiohttp-3.12.13-cp310-cp310-manylinux_2_17_x86_64.manylinux2014_x86_64.whl.metadata (7.6 kB)\n",
      "Collecting aiohappyeyeballs>=2.5.0 (from aiohttp!=4.0.0a0,!=4.0.0a1->fsspec[http]<=2025.3.0,>=2023.1.0->datasets)\n",
      "  Downloading aiohappyeyeballs-2.6.1-py3-none-any.whl.metadata (5.9 kB)\n",
      "Collecting aiosignal>=1.1.2 (from aiohttp!=4.0.0a0,!=4.0.0a1->fsspec[http]<=2025.3.0,>=2023.1.0->datasets)\n",
      "  Downloading aiosignal-1.3.2-py2.py3-none-any.whl.metadata (3.8 kB)\n",
      "Collecting async-timeout<6.0,>=4.0 (from aiohttp!=4.0.0a0,!=4.0.0a1->fsspec[http]<=2025.3.0,>=2023.1.0->datasets)\n",
      "  Downloading async_timeout-5.0.1-py3-none-any.whl.metadata (5.1 kB)\n",
      "Requirement already satisfied: attrs>=17.3.0 in /home/ec2-user/anaconda3/envs/pytorch_p310/lib/python3.10/site-packages (from aiohttp!=4.0.0a0,!=4.0.0a1->fsspec[http]<=2025.3.0,>=2023.1.0->datasets) (25.3.0)\n",
      "Collecting frozenlist>=1.1.1 (from aiohttp!=4.0.0a0,!=4.0.0a1->fsspec[http]<=2025.3.0,>=2023.1.0->datasets)\n",
      "  Downloading frozenlist-1.7.0-cp310-cp310-manylinux_2_5_x86_64.manylinux1_x86_64.manylinux_2_17_x86_64.manylinux2014_x86_64.whl.metadata (18 kB)\n",
      "Collecting multidict<7.0,>=4.5 (from aiohttp!=4.0.0a0,!=4.0.0a1->fsspec[http]<=2025.3.0,>=2023.1.0->datasets)\n",
      "  Downloading multidict-6.6.3-cp310-cp310-manylinux2014_x86_64.manylinux_2_17_x86_64.manylinux_2_28_x86_64.whl.metadata (5.3 kB)\n",
      "Collecting propcache>=0.2.0 (from aiohttp!=4.0.0a0,!=4.0.0a1->fsspec[http]<=2025.3.0,>=2023.1.0->datasets)\n",
      "  Downloading propcache-0.3.2-cp310-cp310-manylinux_2_17_x86_64.manylinux2014_x86_64.whl.metadata (12 kB)\n",
      "Collecting yarl<2.0,>=1.17.0 (from aiohttp!=4.0.0a0,!=4.0.0a1->fsspec[http]<=2025.3.0,>=2023.1.0->datasets)\n",
      "  Downloading yarl-1.20.1-cp310-cp310-manylinux_2_17_x86_64.manylinux2014_x86_64.whl.metadata (73 kB)\n",
      "Requirement already satisfied: typing-extensions>=4.1.0 in /home/ec2-user/anaconda3/envs/pytorch_p310/lib/python3.10/site-packages (from multidict<7.0,>=4.5->aiohttp!=4.0.0a0,!=4.0.0a1->fsspec[http]<=2025.3.0,>=2023.1.0->datasets) (4.14.0)\n",
      "Requirement already satisfied: idna>=2.0 in /home/ec2-user/anaconda3/envs/pytorch_p310/lib/python3.10/site-packages (from yarl<2.0,>=1.17.0->aiohttp!=4.0.0a0,!=4.0.0a1->fsspec[http]<=2025.3.0,>=2023.1.0->datasets) (3.10)\n",
      "Collecting hf-xet<2.0.0,>=1.1.2 (from huggingface-hub>=0.24.0->datasets)\n",
      "  Downloading hf_xet-1.1.5-cp37-abi3-manylinux_2_17_x86_64.manylinux2014_x86_64.whl.metadata (879 bytes)\n",
      "Requirement already satisfied: charset_normalizer<4,>=2 in /home/ec2-user/anaconda3/envs/pytorch_p310/lib/python3.10/site-packages (from requests>=2.32.2->datasets) (3.4.2)\n",
      "Requirement already satisfied: urllib3<3,>=1.21.1 in /home/ec2-user/anaconda3/envs/pytorch_p310/lib/python3.10/site-packages (from requests>=2.32.2->datasets) (1.26.19)\n",
      "Requirement already satisfied: certifi>=2017.4.17 in /home/ec2-user/anaconda3/envs/pytorch_p310/lib/python3.10/site-packages (from requests>=2.32.2->datasets) (2025.4.26)\n",
      "Requirement already satisfied: python-dateutil>=2.8.2 in /home/ec2-user/anaconda3/envs/pytorch_p310/lib/python3.10/site-packages (from pandas->datasets) (2.9.0)\n",
      "Requirement already satisfied: pytz>=2020.1 in /home/ec2-user/anaconda3/envs/pytorch_p310/lib/python3.10/site-packages (from pandas->datasets) (2025.2)\n",
      "Requirement already satisfied: tzdata>=2022.7 in /home/ec2-user/anaconda3/envs/pytorch_p310/lib/python3.10/site-packages (from pandas->datasets) (2025.2)\n",
      "Requirement already satisfied: six>=1.5 in /home/ec2-user/anaconda3/envs/pytorch_p310/lib/python3.10/site-packages (from python-dateutil>=2.8.2->pandas->datasets) (1.17.0)\n",
      "Downloading datasets-3.6.0-py3-none-any.whl (491 kB)\n",
      "Downloading dill-0.3.8-py3-none-any.whl (116 kB)\n",
      "Downloading fsspec-2025.3.0-py3-none-any.whl (193 kB)\n",
      "Downloading multiprocess-0.70.16-py310-none-any.whl (134 kB)\n",
      "Downloading aiohttp-3.12.13-cp310-cp310-manylinux_2_17_x86_64.manylinux2014_x86_64.whl (1.6 MB)\n",
      "\u001b[2K   \u001b[90m━━━━━━━━━━━━━━━━━━━━━━━━━━━━━━━━━━━━━━━━\u001b[0m \u001b[32m1.6/1.6 MB\u001b[0m \u001b[31m63.8 MB/s\u001b[0m eta \u001b[36m0:00:00\u001b[0m\n",
      "\u001b[?25hDownloading async_timeout-5.0.1-py3-none-any.whl (6.2 kB)\n",
      "Downloading multidict-6.6.3-cp310-cp310-manylinux2014_x86_64.manylinux_2_17_x86_64.manylinux_2_28_x86_64.whl (241 kB)\n",
      "Downloading yarl-1.20.1-cp310-cp310-manylinux_2_17_x86_64.manylinux2014_x86_64.whl (326 kB)\n",
      "Downloading aiohappyeyeballs-2.6.1-py3-none-any.whl (15 kB)\n",
      "Downloading aiosignal-1.3.2-py2.py3-none-any.whl (7.6 kB)\n",
      "Downloading frozenlist-1.7.0-cp310-cp310-manylinux_2_5_x86_64.manylinux1_x86_64.manylinux_2_17_x86_64.manylinux2014_x86_64.whl (222 kB)\n",
      "Downloading huggingface_hub-0.33.2-py3-none-any.whl (515 kB)\n",
      "Downloading hf_xet-1.1.5-cp37-abi3-manylinux_2_17_x86_64.manylinux2014_x86_64.whl (3.1 MB)\n",
      "\u001b[2K   \u001b[90m━━━━━━━━━━━━━━━━━━━━━━━━━━━━━━━━━━━━━━━━\u001b[0m \u001b[32m3.1/3.1 MB\u001b[0m \u001b[31m106.5 MB/s\u001b[0m eta \u001b[36m0:00:00\u001b[0m\n",
      "\u001b[?25hDownloading propcache-0.3.2-cp310-cp310-manylinux_2_17_x86_64.manylinux2014_x86_64.whl (198 kB)\n",
      "Downloading xxhash-3.5.0-cp310-cp310-manylinux_2_17_x86_64.manylinux2014_x86_64.whl (194 kB)\n"
     ]
    }
   ],
   "source": [
    "!pip install datasets\n",
    "!pip install openpyxl\n",
    "!pip install -q -U google-genai\n",
    "# !pip install transformers\n",
    "# !pip install accelerate\n",
    "# !pip install peft\n",
    "# !pip install bitsandbytes"
   ]
  },
  {
   "cell_type": "markdown",
   "id": "d52ac5aa-eb0a-4ae5-b8de-a5d2a6fbc453",
   "metadata": {},
   "source": [
    "# Imports"
   ]
  },
  {
   "cell_type": "code",
   "execution_count": 1,
   "id": "7c5c1afb-bf91-456d-aecd-63dbe731d117",
   "metadata": {},
   "outputs": [
    {
     "ename": "ImportError",
     "evalue": "cannot import name 'genai' from 'google' (unknown location)",
     "output_type": "error",
     "traceback": [
      "\u001b[0;31m---------------------------------------------------------------------------\u001b[0m",
      "\u001b[0;31mImportError\u001b[0m                               Traceback (most recent call last)",
      "Cell \u001b[0;32mIn[1], line 8\u001b[0m\n\u001b[1;32m      5\u001b[0m \u001b[38;5;28;01mimport\u001b[39;00m\u001b[38;5;250m \u001b[39m\u001b[38;5;21;01msys\u001b[39;00m\n\u001b[1;32m      7\u001b[0m \u001b[38;5;66;03m# Call models\u001b[39;00m\n\u001b[0;32m----> 8\u001b[0m \u001b[38;5;28;01mfrom\u001b[39;00m\u001b[38;5;250m \u001b[39m\u001b[38;5;21;01msrc\u001b[39;00m\u001b[38;5;21;01m.\u001b[39;00m\u001b[38;5;21;01mcall_models\u001b[39;00m\u001b[38;5;250m \u001b[39m\u001b[38;5;28;01mimport\u001b[39;00m bedrock_connect, call_claude_bedrock\n\u001b[1;32m      9\u001b[0m \u001b[38;5;28;01mfrom\u001b[39;00m\u001b[38;5;250m \u001b[39m\u001b[38;5;21;01msrc\u001b[39;00m\u001b[38;5;21;01m.\u001b[39;00m\u001b[38;5;21;01mcall_models\u001b[39;00m\u001b[38;5;250m \u001b[39m\u001b[38;5;28;01mimport\u001b[39;00m google_connect, call_gemini, all_string_gemini_config, all_int_gemini_config\n\u001b[1;32m     10\u001b[0m \u001b[38;5;28;01mfrom\u001b[39;00m\u001b[38;5;250m \u001b[39m\u001b[38;5;21;01msrc\u001b[39;00m\u001b[38;5;21;01m.\u001b[39;00m\u001b[38;5;21;01mtranslate_func\u001b[39;00m\u001b[38;5;250m \u001b[39m\u001b[38;5;28;01mimport\u001b[39;00m claude_translation, gemini_translation, gemini_multi_translation, gemini_claude_best_translation\n",
      "File \u001b[0;32m~/SageMaker/qwen-hebrew-finetuning/translation/src/call_models.py:3\u001b[0m\n\u001b[1;32m      1\u001b[0m \u001b[38;5;28;01mimport\u001b[39;00m\u001b[38;5;250m \u001b[39m\u001b[38;5;21;01mboto3\u001b[39;00m\n\u001b[1;32m      2\u001b[0m \u001b[38;5;28;01mimport\u001b[39;00m\u001b[38;5;250m \u001b[39m\u001b[38;5;21;01mjson\u001b[39;00m\n\u001b[0;32m----> 3\u001b[0m \u001b[38;5;28;01mfrom\u001b[39;00m\u001b[38;5;250m \u001b[39m\u001b[38;5;21;01mgoogle\u001b[39;00m\u001b[38;5;250m \u001b[39m\u001b[38;5;28;01mimport\u001b[39;00m genai\n\u001b[1;32m      4\u001b[0m \u001b[38;5;28;01mfrom\u001b[39;00m\u001b[38;5;250m \u001b[39m\u001b[38;5;21;01mgoogle\u001b[39;00m\u001b[38;5;21;01m.\u001b[39;00m\u001b[38;5;21;01mgenai\u001b[39;00m\u001b[38;5;250m \u001b[39m\u001b[38;5;28;01mimport\u001b[39;00m types\n\u001b[1;32m      6\u001b[0m CLAUDE_MODEL \u001b[38;5;241m=\u001b[39m \u001b[38;5;124m\"\u001b[39m\u001b[38;5;124marn:aws:bedrock:us-east-1:670967753077:inference-profile/us.anthropic.claude-3-7-sonnet-20250219-v1:0\u001b[39m\u001b[38;5;124m\"\u001b[39m\n",
      "\u001b[0;31mImportError\u001b[0m: cannot import name 'genai' from 'google' (unknown location)"
     ]
    }
   ],
   "source": [
    "%load_ext autoreload\n",
    "%autoreload 2\n",
    "\n",
    "import pandas as pd\n",
    "import sys\n",
    "\n",
    "# Call models\n",
    "from src.call_models import bedrock_connect, call_claude_bedrock\n",
    "from src.call_models import google_connect, call_gemini, all_string_gemini_config, all_int_gemini_config\n",
    "from src.translate_func import claude_translation, gemini_translation, gemini_multi_translation, gemini_claude_best_translation\n",
    "\n",
    "# Datasets\n",
    "from src.benchmarks_code import arc_ai\n",
    "from prompts import arc_prompts\n",
    "\n",
    "# Access keys\n",
    "from my_access_keys import google_access_key, aws_access_key, aws_secret_key\n",
    "\n",
    "# .csv utils\n",
    "from src.save_utils import add_dataset_to_csv\n",
    "\n",
    "# Remove annoying warning\n",
    "from IPython.core.display_functions import display"
   ]
  },
  {
   "cell_type": "code",
   "execution_count": null,
   "id": "ee4c23e3-3705-4090-b599-f06d7bef152e",
   "metadata": {},
   "outputs": [],
   "source": [
    "# Get the model's access keys\n",
    "bedrock_client = bedrock_connect(aws_access_key, aws_secret_key)\n",
    "google_client = google_connect(google_access_key)"
   ]
  },
  {
   "cell_type": "markdown",
   "id": "d558c746-5323-449a-9715-0787c26e8144",
   "metadata": {},
   "source": [
    "# Check Models Calls"
   ]
  },
  {
   "cell_type": "raw",
   "id": "3cdc429b-402e-45c6-acac-7b9e9f0a9591",
   "metadata": {},
   "source": [
    "print('claude:')\n",
    "print(call_claude_bedrock(bedrock_client, 'Which one is more accurate in Hebrew? repeat the right sentence, without adding anything\\nהיווצרות יבשת העל פנגיאה OR היווצרות היבשת העל פנגיאה'))"
   ]
  },
  {
   "cell_type": "raw",
   "id": "f97cdb0b-acdd-4e41-a5b9-a0eab887763c",
   "metadata": {},
   "source": [
    "print('Gemini:')\n",
    "generate_content_config = all_string_gemini_config(['recipe', 'ingredients'], 'USE ONLY ALLCAPS')\n",
    "response = call_gemini(google_client, \"List a popular cookie recipe, and include the amounts of ingredients.\", generate_content_config)\n",
    "print(response.text)\n",
    "print('---')\n",
    "my_recipes = response.parsed\n",
    "print(my_recipes.keys())"
   ]
  },
  {
   "cell_type": "markdown",
   "id": "a7e9b7c3-0fe6-4d38-9f14-11dbc22c4407",
   "metadata": {},
   "source": [
    "# ARC_AI2"
   ]
  },
  {
   "cell_type": "markdown",
   "id": "45f8b0ca-de73-46c6-908d-35f288bb3c16",
   "metadata": {},
   "source": [
    "## Get Datset"
   ]
  },
  {
   "cell_type": "code",
   "execution_count": 2,
   "id": "dc1f8efc-d4cb-4b6e-b88c-7b3ef27d2f4a",
   "metadata": {},
   "outputs": [
    {
     "ename": "NameError",
     "evalue": "name 'arc_ai' is not defined",
     "output_type": "error",
     "traceback": [
      "\u001b[0;31m---------------------------------------------------------------------------\u001b[0m",
      "\u001b[0;31mNameError\u001b[0m                                 Traceback (most recent call last)",
      "Cell \u001b[0;32mIn[2], line 1\u001b[0m\n\u001b[0;32m----> 1\u001b[0m arc_dataset \u001b[38;5;241m=\u001b[39m \u001b[43marc_ai\u001b[49m\u001b[38;5;241m.\u001b[39mget_arc_ai2_datasets()\n\u001b[1;32m      2\u001b[0m arc_dataset[\u001b[38;5;124m'\u001b[39m\u001b[38;5;124marc_challenge_train\u001b[39m\u001b[38;5;124m'\u001b[39m] \u001b[38;5;241m=\u001b[39m arc_dataset[\u001b[38;5;124m'\u001b[39m\u001b[38;5;124marc_challenge_train\u001b[39m\u001b[38;5;124m'\u001b[39m]\u001b[38;5;241m.\u001b[39mskip(\u001b[38;5;241m5\u001b[39m)\u001b[38;5;241m.\u001b[39mtake(\u001b[38;5;241m50\u001b[39m)\n\u001b[1;32m      3\u001b[0m file_name \u001b[38;5;241m=\u001b[39m \u001b[38;5;124m'\u001b[39m\u001b[38;5;124mcompare_csv/arc_ai2_chall_train_top_50.csv\u001b[39m\u001b[38;5;124m'\u001b[39m\n",
      "\u001b[0;31mNameError\u001b[0m: name 'arc_ai' is not defined"
     ]
    }
   ],
   "source": [
    "arc_dataset = arc_ai.get_arc_ai2_datasets()\n",
    "arc_dataset['arc_challenge_train'] = arc_dataset['arc_challenge_train'].skip(5).take(50)\n",
    "file_name = 'compare_csv/arc_ai2_chall_train_top_50.csv'\n",
    "\n",
    "print(file_name)\n",
    "arc_dataset"
   ]
  },
  {
   "cell_type": "raw",
   "id": "c78dcc16-1f3c-4a02-ab4e-d88bd3935130",
   "metadata": {},
   "source": [
    "df = add_dataset_to_csv(file_name, 'original', arc_dataset['arc_challenge_train'], arc_ai.arc_sample_to_dict)\n",
    "df.head(3)"
   ]
  },
  {
   "cell_type": "code",
   "execution_count": 3,
   "id": "43d6128c-2e3e-4181-a676-ffad0f9352ba",
   "metadata": {},
   "outputs": [
    {
     "ename": "NameError",
     "evalue": "name 'file_name' is not defined",
     "output_type": "error",
     "traceback": [
      "\u001b[0;31m---------------------------------------------------------------------------\u001b[0m",
      "\u001b[0;31mNameError\u001b[0m                                 Traceback (most recent call last)",
      "Cell \u001b[0;32mIn[3], line 1\u001b[0m\n\u001b[0;32m----> 1\u001b[0m df \u001b[38;5;241m=\u001b[39m pd\u001b[38;5;241m.\u001b[39mread_csv(\u001b[43mfile_name\u001b[49m)\n\u001b[1;32m      2\u001b[0m df\u001b[38;5;241m.\u001b[39mhead(\u001b[38;5;241m3\u001b[39m)\n",
      "\u001b[0;31mNameError\u001b[0m: name 'file_name' is not defined"
     ]
    }
   ],
   "source": [
    "df = pd.read_csv(file_name)\n",
    "df.head(3)"
   ]
  },
  {
   "cell_type": "markdown",
   "id": "0110eefb-aab4-451d-b273-b0d5a554c91f",
   "metadata": {},
   "source": [
    "## Run Translation"
   ]
  },
  {
   "cell_type": "markdown",
   "id": "36f09840-3fa3-4124-8feb-a52d8cb213f9",
   "metadata": {},
   "source": [
    "### Claude"
   ]
  },
  {
   "cell_type": "code",
   "execution_count": 91,
   "id": "8451a51a-b126-49ed-aa5b-e047a2c338fa",
   "metadata": {},
   "outputs": [
    {
     "name": "stdout",
     "output_type": "stream",
     "text": [
      "Translating arc_challenge_train...\n"
     ]
    },
    {
     "data": {
      "application/vnd.jupyter.widget-view+json": {
       "model_id": "9eaed3c89ba5448ba5da97efbe2a43b0",
       "version_major": 2,
       "version_minor": 0
      },
      "text/plain": [
       "  0%|          | 0/50 [00:00<?, ?it/s]"
      ]
     },
     "metadata": {},
     "output_type": "display_data"
    }
   ],
   "source": [
    "exp_name = 'claude_v6'\n",
    "\n",
    "hebrew_datasets = claude_translation(\n",
    "    bedrock_client,\n",
    "    arc_dataset,\n",
    "    arc_prompts.ARC_INSTRUCT_V6_CLAUDE,\n",
    "    arc_prompts.ARC_FEW_SHOTS,\n",
    "    arc_prompts.ARC_FORMAT,\n",
    "    arc_ai.arc_sample_to_dict,\n",
    "    arc_ai.arc_dict_to_sample,\n",
    ")"
   ]
  },
  {
   "cell_type": "code",
   "execution_count": 5,
   "id": "e271e9d5-6144-461e-b171-8fbcd27220f6",
   "metadata": {},
   "outputs": [
    {
     "data": {
      "text/html": [
       "<div>\n",
       "<style scoped>\n",
       "    .dataframe tbody tr th:only-of-type {\n",
       "        vertical-align: middle;\n",
       "    }\n",
       "\n",
       "    .dataframe tbody tr th {\n",
       "        vertical-align: top;\n",
       "    }\n",
       "\n",
       "    .dataframe thead th {\n",
       "        text-align: right;\n",
       "    }\n",
       "</style>\n",
       "<table border=\"1\" class=\"dataframe\">\n",
       "  <thead>\n",
       "    <tr style=\"text-align: right;\">\n",
       "      <th></th>\n",
       "      <th>original</th>\n",
       "      <th>claude_v1</th>\n",
       "      <th>claude_v2</th>\n",
       "      <th>claude_v3</th>\n",
       "      <th>claude_v4</th>\n",
       "      <th>claude_v5</th>\n",
       "      <th>claude_v6</th>\n",
       "    </tr>\n",
       "  </thead>\n",
       "  <tbody>\n",
       "    <tr>\n",
       "      <th>0</th>\n",
       "      <td>&lt;question&gt;Which land form is the result of the...</td>\n",
       "      <td>&lt;question&gt;איזו צורת קרקע היא תוצאה של הכוח הבו...</td>\n",
       "      <td>&lt;question&gt;איזו צורת קרקע היא תוצאה של הכוח הבו...</td>\n",
       "      <td>&lt;question&gt;איזו צורת קרקע היא תוצאה של הכוח הבו...</td>\n",
       "      <td>&lt;question&gt;איזו צורת קרקע היא תוצאה של הכוח הבו...</td>\n",
       "      <td>&lt;question&gt;איזו צורת קרקע היא תוצאה של הכוח הבו...</td>\n",
       "      <td>&lt;question&gt;איזו צורת קרקע היא תוצאה של הכוח הבו...</td>\n",
       "    </tr>\n",
       "    <tr>\n",
       "      <th>1</th>\n",
       "      <td>&lt;question&gt;Which statement best compares single...</td>\n",
       "      <td>&lt;question&gt;איזה היגד משווה בצורה הטובה ביותר בי...</td>\n",
       "      <td>&lt;question&gt;איזה היגד משווה בצורה הטובה ביותר בי...</td>\n",
       "      <td>&lt;question&gt;איזה היגד משווה בצורה הטובה ביותר בי...</td>\n",
       "      <td>&lt;question&gt;איזה היגד משווה בצורה הטובה ביותר בי...</td>\n",
       "      <td>&lt;question&gt;איזה היגד משווה בצורה הטובה ביותר בי...</td>\n",
       "      <td>&lt;question&gt;איזה היגד משווה בצורה הטובה ביותר בי...</td>\n",
       "    </tr>\n",
       "  </tbody>\n",
       "</table>\n",
       "</div>"
      ],
      "text/plain": [
       "                                            original  \\\n",
       "0  <question>Which land form is the result of the...   \n",
       "1  <question>Which statement best compares single...   \n",
       "\n",
       "                                           claude_v1  \\\n",
       "0  <question>איזו צורת קרקע היא תוצאה של הכוח הבו...   \n",
       "1  <question>איזה היגד משווה בצורה הטובה ביותר בי...   \n",
       "\n",
       "                                           claude_v2  \\\n",
       "0  <question>איזו צורת קרקע היא תוצאה של הכוח הבו...   \n",
       "1  <question>איזה היגד משווה בצורה הטובה ביותר בי...   \n",
       "\n",
       "                                           claude_v3  \\\n",
       "0  <question>איזו צורת קרקע היא תוצאה של הכוח הבו...   \n",
       "1  <question>איזה היגד משווה בצורה הטובה ביותר בי...   \n",
       "\n",
       "                                           claude_v4  \\\n",
       "0  <question>איזו צורת קרקע היא תוצאה של הכוח הבו...   \n",
       "1  <question>איזה היגד משווה בצורה הטובה ביותר בי...   \n",
       "\n",
       "                                           claude_v5  \\\n",
       "0  <question>איזו צורת קרקע היא תוצאה של הכוח הבו...   \n",
       "1  <question>איזה היגד משווה בצורה הטובה ביותר בי...   \n",
       "\n",
       "                                           claude_v6  \n",
       "0  <question>איזו צורת קרקע היא תוצאה של הכוח הבו...  \n",
       "1  <question>איזה היגד משווה בצורה הטובה ביותר בי...  "
      ]
     },
     "execution_count": 5,
     "metadata": {},
     "output_type": "execute_result"
    }
   ],
   "source": [
    "df = add_dataset_to_csv(file_name, exp_name, hebrew_datasets['arc_challenge_train'], arc_ai.arc_sample_to_dict)\n",
    "df.head(2)"
   ]
  },
  {
   "cell_type": "markdown",
   "id": "ba1a501e-f0e0-4897-a3d2-f922f52d9719",
   "metadata": {},
   "source": [
    "### Gemini"
   ]
  },
  {
   "cell_type": "code",
   "execution_count": 9,
   "id": "6dcc499b-39ce-46ae-b20f-e1e0ce44fd93",
   "metadata": {},
   "outputs": [
    {
     "name": "stdout",
     "output_type": "stream",
     "text": [
      "Translating arc_challenge_train...\n"
     ]
    },
    {
     "data": {
      "application/vnd.jupyter.widget-view+json": {
       "model_id": "16c61fd87d5d43bf9cbffbca2e4e553b",
       "version_major": 2,
       "version_minor": 0
      },
      "text/plain": [
       "  0%|          | 0/50 [00:00<?, ?it/s]"
      ]
     },
     "metadata": {},
     "output_type": "display_data"
    },
    {
     "name": "stdout",
     "output_type": "stream",
     "text": [
      "Sleeping.... Done!                                "
     ]
    }
   ],
   "source": [
    "exp_name = 'gemini_pro_v1'\n",
    "\n",
    "hebrew_datasets = gemini_translation(\n",
    "    google_client,\n",
    "    arc_dataset,\n",
    "    arc_prompts.ARC_INSTRUCT_V1_GEMINI,\n",
    "    arc_prompts.ARC_FEW_SHOTS,\n",
    "    arc_ai.arc_sample_to_dict,\n",
    "    arc_ai.arc_dict_to_sample,\n",
    ")"
   ]
  },
  {
   "cell_type": "code",
   "execution_count": 10,
   "id": "1b424a8f-12bb-4692-8094-36f7e5efa680",
   "metadata": {},
   "outputs": [
    {
     "data": {
      "text/html": [
       "<div>\n",
       "<style scoped>\n",
       "    .dataframe tbody tr th:only-of-type {\n",
       "        vertical-align: middle;\n",
       "    }\n",
       "\n",
       "    .dataframe tbody tr th {\n",
       "        vertical-align: top;\n",
       "    }\n",
       "\n",
       "    .dataframe thead th {\n",
       "        text-align: right;\n",
       "    }\n",
       "</style>\n",
       "<table border=\"1\" class=\"dataframe\">\n",
       "  <thead>\n",
       "    <tr style=\"text-align: right;\">\n",
       "      <th></th>\n",
       "      <th>original</th>\n",
       "      <th>claude_v1</th>\n",
       "      <th>claude_v2</th>\n",
       "      <th>claude_v3</th>\n",
       "      <th>claude_v4</th>\n",
       "      <th>claude_v5</th>\n",
       "      <th>claude_v6</th>\n",
       "      <th>gemini_v1</th>\n",
       "      <th>gemini_pro_v1</th>\n",
       "    </tr>\n",
       "  </thead>\n",
       "  <tbody>\n",
       "    <tr>\n",
       "      <th>0</th>\n",
       "      <td>&lt;question&gt;Which land form is the result of the...</td>\n",
       "      <td>&lt;question&gt;איזו צורת קרקע היא תוצאה של הכוח הבו...</td>\n",
       "      <td>&lt;question&gt;איזו צורת קרקע היא תוצאה של הכוח הבו...</td>\n",
       "      <td>&lt;question&gt;איזו צורת קרקע היא תוצאה של הכוח הבו...</td>\n",
       "      <td>&lt;question&gt;איזו צורת קרקע היא תוצאה של הכוח הבו...</td>\n",
       "      <td>&lt;question&gt;איזו צורת קרקע היא תוצאה של הכוח הבו...</td>\n",
       "      <td>&lt;question&gt;איזו צורת קרקע היא תוצאה של הכוח הבו...</td>\n",
       "      <td>&lt;question&gt;איזו צורת נוף היא תוצאה של הכוח הבונ...</td>\n",
       "      <td>&lt;question&gt;איזו תצורת נוף היא תוצאה של הכוח הבו...</td>\n",
       "    </tr>\n",
       "    <tr>\n",
       "      <th>1</th>\n",
       "      <td>&lt;question&gt;Which statement best compares single...</td>\n",
       "      <td>&lt;question&gt;איזה היגד משווה בצורה הטובה ביותר בי...</td>\n",
       "      <td>&lt;question&gt;איזה היגד משווה בצורה הטובה ביותר בי...</td>\n",
       "      <td>&lt;question&gt;איזה היגד משווה בצורה הטובה ביותר בי...</td>\n",
       "      <td>&lt;question&gt;איזה היגד משווה בצורה הטובה ביותר בי...</td>\n",
       "      <td>&lt;question&gt;איזה היגד משווה בצורה הטובה ביותר בי...</td>\n",
       "      <td>&lt;question&gt;איזה היגד משווה בצורה הטובה ביותר בי...</td>\n",
       "      <td>&lt;question&gt;איזה היגד משווה בצורה הטובה ביותר או...</td>\n",
       "      <td>&lt;question&gt;איזה היגד משווה בצורה הטובה ביותר בי...</td>\n",
       "    </tr>\n",
       "  </tbody>\n",
       "</table>\n",
       "</div>"
      ],
      "text/plain": [
       "                                            original  \\\n",
       "0  <question>Which land form is the result of the...   \n",
       "1  <question>Which statement best compares single...   \n",
       "\n",
       "                                           claude_v1  \\\n",
       "0  <question>איזו צורת קרקע היא תוצאה של הכוח הבו...   \n",
       "1  <question>איזה היגד משווה בצורה הטובה ביותר בי...   \n",
       "\n",
       "                                           claude_v2  \\\n",
       "0  <question>איזו צורת קרקע היא תוצאה של הכוח הבו...   \n",
       "1  <question>איזה היגד משווה בצורה הטובה ביותר בי...   \n",
       "\n",
       "                                           claude_v3  \\\n",
       "0  <question>איזו צורת קרקע היא תוצאה של הכוח הבו...   \n",
       "1  <question>איזה היגד משווה בצורה הטובה ביותר בי...   \n",
       "\n",
       "                                           claude_v4  \\\n",
       "0  <question>איזו צורת קרקע היא תוצאה של הכוח הבו...   \n",
       "1  <question>איזה היגד משווה בצורה הטובה ביותר בי...   \n",
       "\n",
       "                                           claude_v5  \\\n",
       "0  <question>איזו צורת קרקע היא תוצאה של הכוח הבו...   \n",
       "1  <question>איזה היגד משווה בצורה הטובה ביותר בי...   \n",
       "\n",
       "                                           claude_v6  \\\n",
       "0  <question>איזו צורת קרקע היא תוצאה של הכוח הבו...   \n",
       "1  <question>איזה היגד משווה בצורה הטובה ביותר בי...   \n",
       "\n",
       "                                           gemini_v1  \\\n",
       "0  <question>איזו צורת נוף היא תוצאה של הכוח הבונ...   \n",
       "1  <question>איזה היגד משווה בצורה הטובה ביותר או...   \n",
       "\n",
       "                                       gemini_pro_v1  \n",
       "0  <question>איזו תצורת נוף היא תוצאה של הכוח הבו...  \n",
       "1  <question>איזה היגד משווה בצורה הטובה ביותר בי...  "
      ]
     },
     "execution_count": 10,
     "metadata": {},
     "output_type": "execute_result"
    }
   ],
   "source": [
    "df = add_dataset_to_csv(file_name, exp_name, hebrew_datasets['arc_challenge_train'], arc_ai.arc_sample_to_dict)\n",
    "df.head(2)"
   ]
  },
  {
   "cell_type": "markdown",
   "id": "969f75a8-d838-442c-8c57-c9a41949e0e8",
   "metadata": {},
   "source": [
    "### Multi-options Translation - Claude"
   ]
  },
  {
   "cell_type": "code",
   "execution_count": null,
   "id": "fc62614a-2efc-45ea-b58f-36ca66790d22",
   "metadata": {},
   "outputs": [],
   "source": []
  },
  {
   "cell_type": "markdown",
   "id": "f1691522-c65b-44ef-9bd4-3a8eefa04c3a",
   "metadata": {},
   "source": [
    "### Multi-options Translation - Gemini"
   ]
  },
  {
   "cell_type": "code",
   "execution_count": null,
   "id": "150eb3a5-ae0a-40c0-8325-fcc4c4a861fa",
   "metadata": {},
   "outputs": [],
   "source": [
    "print(arc_prompts.ARC_INSTRUCT_MULTI_V1)"
   ]
  },
  {
   "cell_type": "code",
   "execution_count": null,
   "id": "ccaea7b1-aadf-416a-8a18-73506becba74",
   "metadata": {},
   "outputs": [],
   "source": [
    "hebrew_datasets = gemini_multi_translation(\n",
    "    google_client,\n",
    "    arc_dataset,\n",
    "    arc_prompts.ARC_INSTRUCT_MULTI_V1,\n",
    "    arc_prompts.ARC_FEW_SHOTS,\n",
    "    arc_ai.arc_sample_to_dict,\n",
    "    arc_ai.arc_dict_to_sample,\n",
    ")"
   ]
  },
  {
   "cell_type": "markdown",
   "id": "3844fb4b-f71b-4f7c-82ef-57c51f3e3f76",
   "metadata": {},
   "source": [
    "___"
   ]
  },
  {
   "cell_type": "raw",
   "id": "2e140d41-d017-45f2-8c56-d71f50d7a905",
   "metadata": {},
   "source": [
    "original, hebrew = gemini_multi_translation(\n",
    "    google_client,\n",
    "    arc_dataset,\n",
    "    arc_prompts.ARC_INSTRUCT_MULTI_V1,\n",
    "    arc_prompts.ARC_FEW_SHOTS,\n",
    "    arc_ai.arc_sample_to_dict,\n",
    "    arc_ai.arc_dict_to_sample,\n",
    ")"
   ]
  },
  {
   "cell_type": "raw",
   "id": "65643b31-67b8-4264-8849-ccf7ab4c7198",
   "metadata": {},
   "source": [
    "original, hebrew"
   ]
  },
  {
   "cell_type": "raw",
   "id": "f741f3dc-1cb4-4e9f-840e-39d61c97d71e",
   "metadata": {},
   "source": [
    "from src.translate_func import CHOOSE_INSTRUCT, options_to_prompt\n",
    "choose_config = all_string_gemini_config(original.keys(), system_instruction=CHOOSE_INSTRUCT)"
   ]
  },
  {
   "cell_type": "raw",
   "id": "ddc46e88-2391-4902-8e18-5c68a8ec7697",
   "metadata": {},
   "source": [
    "q = options_to_prompt(original, hebrew)\n",
    "print(q)"
   ]
  },
  {
   "cell_type": "raw",
   "id": "8ca79d4e-6ff7-4d01-801a-0ae0b28866cf",
   "metadata": {},
   "source": [
    "output = call_gemini(google_client, q, choose_config)"
   ]
  },
  {
   "cell_type": "raw",
   "id": "7edc1461-db21-40f5-adaa-f4db0910c0a2",
   "metadata": {},
   "source": [
    "output.parsed"
   ]
  },
  {
   "cell_type": "markdown",
   "id": "851254f5-cfbf-462e-98dd-3338614ff9ef",
   "metadata": {},
   "source": [
    "### Claude vs Gemini (using Gemini as judge)"
   ]
  },
  {
   "cell_type": "code",
   "execution_count": null,
   "id": "97657086-d183-4ab9-b3fd-3c86bf7fb34d",
   "metadata": {},
   "outputs": [],
   "source": [
    "hebrew_datasets = gemini_claude_best_translation(\n",
    "    google_client,\n",
    "    bedrock_client,\n",
    "    arc_dataset,\n",
    "    arc_prompts.ARC_INSTRUCT_V,\n",
    "    arc_prompts.ARC_FEW_SHOTS,\n",
    "    arc_prompts.ARC_FORMAT,\n",
    "    arc_ai.arc_sample_to_dict,\n",
    "    arc_ai.arc_dict_to_sample,\n",
    ")"
   ]
  },
  {
   "cell_type": "markdown",
   "id": "296388da-d4fb-4b36-a2db-1c57f951882e",
   "metadata": {
    "jp-MarkdownHeadingCollapsed": true
   },
   "source": [
    "# GSM8K"
   ]
  },
  {
   "cell_type": "code",
   "execution_count": null,
   "id": "7199e18c-20c5-43c0-8927-207ededa0f3b",
   "metadata": {},
   "outputs": [],
   "source": [
    "\"\"\"<instruction>\n",
    "Your task is to translate the given English question and answer into Hebrew, following these guidelines:\n",
    "\n",
    "<guidelines>\n",
    "1. Only translate the provided question and answer. Do not add any additional text or instructions.\n",
    "2. Preserve the original meaning and intent of the question and answer as accurately as possible in the Hebrew translation.\n",
    "3. Maintain the same structure and formatting as the original English version, including bullet points, numbering, or other formatting elements.\n",
    "</guidelines>\n",
    "\n",
    "<example_format>\n",
    "Provide the Hebrew translation immediately after these instructions in the following format:\n",
    "\n",
    "<question>\n",
    "Translated question\n",
    "</question>\n",
    "<answer>\n",
    "Translated answer\n",
    "</answer>\n",
    "</example_format>\n",
    "</instruction>\n",
    "\n",
    "<fewshot_examples>\n",
    "<example>\n",
    "English:\n",
    "<question>\n",
    "In April, Tank gathered 10 more Easter eggs than Emma in their first round of egg hunt. However, Emma gathered twice as many eggs as Tank in their second round of egg hunt, while Tank's total number of eggs in the second round was 20 less than the number she had gathered in the first round. If the total number of eggs in the pile they were collecting with 6 other people was 400 eggs, and Emma gathered 60 eggs in the second egg hunt round, find the number of eggs that the 6 other egg hunters collected?\n",
    "</question>\n",
    "<answer>\n",
    "Tank's total number of eggs in the second round was 60/2=<<60/2=30>>30 since Emma gathered twice as many eggs as Tank in their second round of egg hunt.\n",
    "The total number of eggs that Emma and Tank gathered in the second round was 60+30=<<60+30=90>>90\n",
    "Tank's total number of eggs in the second round was 20 less than the number she had gathered in the first round, meaning she had gathered 30+20=<<30+20=50>>50 eggs in the first round of egg hunt.\n",
    "Tank gathered 10 more Easter eggs than Emma in their first round of egg hunt, meaning Emma collected 50-10=40 eggs\n",
    "The total number of eggs Emma and Tank collected in the first round was 40+50=<<40+50=90>>90\n",
    "In the two rounds, Emma and Tank gathered 90+90=<<90+90=180>>180 eggs\n",
    "If the total number of eggs in the pile they were collecting with 6 other people was 400 eggs, the six other people gathered 400-180=<<400-180=220>>220 eggs\n",
    "#### 220\n",
    "</answer>\n",
    "\n",
    "Hebrew:\n",
    "<question>\n",
    "באפריל, טאנק אספה 10 ביצי פסחא יותר מאמה בסבב הראשון של ציד ביצים. עם זאת, אמה אספה פי שניים ביצים מטאנק בסבב השני של ציד ביצים, בעוד שהמספר הכולל של הביצים של טאנק בסבב השני היה 20 פחות מהמספר שהיא אספה בסבב הראשון. אם המספר הכולל של הביצים בערימה שהן אספו יחד עם 6 אנשים נוספים היה 400 ביצים, ואמה אספה 60 ביצים בסבב השני של ציד ביצים, מצאו את מספר הביצים שאספו 6 ציידי הביצים האחרים?\n",
    "</question>\n",
    "<answer>\n",
    "מספר ביצי הפסחא הכולל של טאנק בסיבוב השני היה 60/2=<<60/2=30>>30 מכיוון שאמה אספה פי שניים ביצי פסחא מטנק בסיבוב השני שלהן בציד הביצים.\n",
    "מספר ביצי הפסחא הכולל שאמה וטאנק אספו בסיבוב השני היה 60+30=<<60+30=90>>90\n",
    "מספר ביצי הפסחא הכולל של טאנק בסיבוב השני היה 20 פחות ממספר הביצים שהיא אספה בסיבוב הראשון, כלומר היא אספה 30+20=<<30+20=50>>50 ביצי פסחא בסיבוב הראשון של ציד הביצים.\n",
    "טאנק אספה 10 ביצי פסחא יותר מאמה בסיבוב הראשון שלהן בציד הביצים, כלומר אמה אספה 50-10=40 ביצי פסחא\n",
    "מספר ביצי הפסחא הכולל שאמה וטאנק אספו בסיבוב הראשון היה 40+50=<<40+50=90>>90\n",
    "בשני הסיבובים, אמה וטאנק אספו 90+90=<<90+90=180>>180 ביצי פסחא\n",
    "אם המספר הכולל של ביצי הפסחא בערימה שהן אספו יחד עם 6 אנשים אחרים היה 400 ביצים, ששת האנשים האחרים אספו 400-180=<<400-180=220>>220 ביצי פסחא\n",
    "#### 220\n",
    "</answer>\n",
    "</example>\n",
    "</fewshot_examples>\n",
    "\n",
    "\"\"\""
   ]
  }
 ],
 "metadata": {
  "kernelspec": {
   "display_name": "conda_pytorch_p310",
   "language": "python",
   "name": "conda_pytorch_p310"
  },
  "language_info": {
   "codemirror_mode": {
    "name": "ipython",
    "version": 3
   },
   "file_extension": ".py",
   "mimetype": "text/x-python",
   "name": "python",
   "nbconvert_exporter": "python",
   "pygments_lexer": "ipython3",
   "version": "3.10.14"
  }
 },
 "nbformat": 4,
 "nbformat_minor": 5
}
